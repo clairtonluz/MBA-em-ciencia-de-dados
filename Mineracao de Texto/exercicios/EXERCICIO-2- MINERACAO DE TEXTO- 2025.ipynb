{
 "cells": [
  {
   "cell_type": "markdown",
   "id": "ae7a432d",
   "metadata": {},
   "source": [
    "# Exercícios \n",
    "\n",
    "## Nivel 1\n",
    "\n",
    "\n",
    "1. Carregue o dado *MEUCANTOR.csv* em um dataframe df.\n",
    "\n",
    "2. Crie uma função que calcule o número de caracteres dos textos de cada música e adicione o resultado como uma nova coluna ao seu dataframe. \n",
    "\n",
    "3. Crie uma função que calcule o número de Tokens dos textos de cada música e adicione o resultado como uma nova coluna ao seu dataframe. \n",
    "\n",
    "4. Apresente a distribuição do número de caracteres por texto em um histograma.  \n",
    "\n",
    "5. Apresente a distribuição do número de Tokens por texto em um histograma. Calcule o valor médio de tokens por texto e classifique-o como m1. \n",
    "\n",
    "6. Crie um scatter plot para o número de caracteres como função do número de tokens para cada texto. \n",
    "\n",
    "7. É possível estabeler uma relação linear? Qual é, em média, o número de caracteres por tokens?\n",
    "\n",
    "## Nivel 2\n",
    "\n",
    "1. Crie uma função que leia um texto, remova *stop_words* e pontuações, além de colocar todas as letras em caixa baixa. O resultado deve ser uma lista de contendo textos lematizados.  \n",
    "\n",
    "2. Para cada música do dataframe df, calcule o número de tokens resultante após a aplicação da função descrita no item anterior. Crie uma nova coluna com os valores obtidos. \n",
    "\n",
    "3. Apresente a distribuição do número de Tokens por texto em um histograma.Calcule o valor médio de tokens por texto e classifique-o como m2. Compare m1 e m2 através da razão de ambos.  \n",
    "\n",
    "4. Quais são as tokens mais frequentes? Faça um $barplot$ contendo a frequência de cada palavra.  \n",
    "\n",
    "5. Identifique os rótulos POS (part of speech tagging) para os tokens estudados. Qual é a frequência de cada classificação? Faça um gráfico de barras. \n",
    "\n",
    "6. Quais são os tokens mais frequentes classificados como adjetivos? Faça um gráfico de barras. \n",
    "\n",
    "7. Quais são os tokens mais frequentes classficados como verbos? Faça um gráfico de barras.\n",
    "\n",
    "8. Quais são os tokens mais frequentes classficados como substantivos? Faça um gráfico de barras.\n",
    "\n",
    "9. Faça um world cloud para os tokens trabalhados nessa seção. \n",
    "\n",
    "\n"
   ]
  },
  {
   "cell_type": "code",
   "execution_count": 2,
   "id": "c358d8cf",
   "metadata": {},
   "outputs": [],
   "source": [
    "import pandas as pd "
   ]
  },
  {
   "cell_type": "code",
   "execution_count": 3,
   "id": "dd689d16",
   "metadata": {},
   "outputs": [],
   "source": [
    "df=pd.read_csv('MEU_CANTOR.csv')"
   ]
  },
  {
   "cell_type": "code",
   "execution_count": 4,
   "id": "05a6d0c7",
   "metadata": {},
   "outputs": [
    {
     "data": {
      "text/html": [
       "<div>\n",
       "<style scoped>\n",
       "    .dataframe tbody tr th:only-of-type {\n",
       "        vertical-align: middle;\n",
       "    }\n",
       "\n",
       "    .dataframe tbody tr th {\n",
       "        vertical-align: top;\n",
       "    }\n",
       "\n",
       "    .dataframe thead th {\n",
       "        text-align: right;\n",
       "    }\n",
       "</style>\n",
       "<table border=\"1\" class=\"dataframe\">\n",
       "  <thead>\n",
       "    <tr style=\"text-align: right;\">\n",
       "      <th></th>\n",
       "      <th>MUSICA</th>\n",
       "      <th>LINKS</th>\n",
       "      <th>TEXTO</th>\n",
       "    </tr>\n",
       "  </thead>\n",
       "  <tbody>\n",
       "    <tr>\n",
       "      <th>0</th>\n",
       "      <td>Primeira Estrada</td>\n",
       "      <td>https://www.vagalume.com.br/djavan/primeira-es...</td>\n",
       "      <td>Primeira  Estrada Djavan D Esse seu coração Nu...</td>\n",
       "    </tr>\n",
       "    <tr>\n",
       "      <th>1</th>\n",
       "      <td>Nada Mais Sou</td>\n",
       "      <td>https://www.vagalume.com.br/djavan/nada-mais-s...</td>\n",
       "      <td>Nada  Mais  Sou Djavan D Te vi Fiquei só Ali Q...</td>\n",
       "    </tr>\n",
       "    <tr>\n",
       "      <th>2</th>\n",
       "      <td>Ao Menos Um Porto</td>\n",
       "      <td>https://www.vagalume.com.br/djavan/ao-menos-um...</td>\n",
       "      <td>Ao  Menos  Um  Porto Djavan D Eu que sou de de...</td>\n",
       "    </tr>\n",
       "    <tr>\n",
       "      <th>3</th>\n",
       "      <td>Sevilhando</td>\n",
       "      <td>https://www.vagalume.com.br/djavan/sevilhando....</td>\n",
       "      <td>Sevilhando Djavan D Andaluz é o mar E o negro ...</td>\n",
       "    </tr>\n",
       "    <tr>\n",
       "      <th>4</th>\n",
       "      <td>Quase Fantasia</td>\n",
       "      <td>https://www.vagalume.com.br/djavan/quase-fanta...</td>\n",
       "      <td>Quase  Fantasia Djavan D Cada vez que eu te en...</td>\n",
       "    </tr>\n",
       "    <tr>\n",
       "      <th>...</th>\n",
       "      <td>...</td>\n",
       "      <td>...</td>\n",
       "      <td>...</td>\n",
       "    </tr>\n",
       "    <tr>\n",
       "      <th>200</th>\n",
       "      <td>Maria das Mercedes</td>\n",
       "      <td>https://www.vagalume.com.br/djavan/maria-das-m...</td>\n",
       "      <td>Maria das  Mercedes Djavan A  Voz e o  Violão ...</td>\n",
       "    </tr>\n",
       "    <tr>\n",
       "      <th>201</th>\n",
       "      <td>Muito Obrigado</td>\n",
       "      <td>https://www.vagalume.com.br/djavan/muito-obrig...</td>\n",
       "      <td>Muito  Obrigado Djavan A  Voz e o  Violão Obri...</td>\n",
       "    </tr>\n",
       "    <tr>\n",
       "      <th>202</th>\n",
       "      <td>Fato Consumado</td>\n",
       "      <td>https://www.vagalume.com.br/djavan/fato-consum...</td>\n",
       "      <td>Fato  Consumado Djavan Djavan na  Pista,  Etc ...</td>\n",
       "    </tr>\n",
       "    <tr>\n",
       "      <th>203</th>\n",
       "      <td>Magia</td>\n",
       "      <td>https://www.vagalume.com.br/djavan/magia.html</td>\n",
       "      <td>Magia Djavan A  Voz e o  Violão Reserve o mito...</td>\n",
       "    </tr>\n",
       "    <tr>\n",
       "      <th>204</th>\n",
       "      <td>Ventos do Norte</td>\n",
       "      <td>https://www.vagalume.com.br/djavan/ventos-do-n...</td>\n",
       "      <td>Ventos do  Norte Djavan A  Voz e o  Violão Bem...</td>\n",
       "    </tr>\n",
       "  </tbody>\n",
       "</table>\n",
       "<p>205 rows × 3 columns</p>\n",
       "</div>"
      ],
      "text/plain": [
       "                 MUSICA                                              LINKS  \\\n",
       "0      Primeira Estrada  https://www.vagalume.com.br/djavan/primeira-es...   \n",
       "1         Nada Mais Sou  https://www.vagalume.com.br/djavan/nada-mais-s...   \n",
       "2     Ao Menos Um Porto  https://www.vagalume.com.br/djavan/ao-menos-um...   \n",
       "3            Sevilhando  https://www.vagalume.com.br/djavan/sevilhando....   \n",
       "4        Quase Fantasia  https://www.vagalume.com.br/djavan/quase-fanta...   \n",
       "..                  ...                                                ...   \n",
       "200  Maria das Mercedes  https://www.vagalume.com.br/djavan/maria-das-m...   \n",
       "201      Muito Obrigado  https://www.vagalume.com.br/djavan/muito-obrig...   \n",
       "202      Fato Consumado  https://www.vagalume.com.br/djavan/fato-consum...   \n",
       "203               Magia      https://www.vagalume.com.br/djavan/magia.html   \n",
       "204     Ventos do Norte  https://www.vagalume.com.br/djavan/ventos-do-n...   \n",
       "\n",
       "                                                 TEXTO  \n",
       "0    Primeira  Estrada Djavan D Esse seu coração Nu...  \n",
       "1    Nada  Mais  Sou Djavan D Te vi Fiquei só Ali Q...  \n",
       "2    Ao  Menos  Um  Porto Djavan D Eu que sou de de...  \n",
       "3    Sevilhando Djavan D Andaluz é o mar E o negro ...  \n",
       "4    Quase  Fantasia Djavan D Cada vez que eu te en...  \n",
       "..                                                 ...  \n",
       "200  Maria das  Mercedes Djavan A  Voz e o  Violão ...  \n",
       "201  Muito  Obrigado Djavan A  Voz e o  Violão Obri...  \n",
       "202  Fato  Consumado Djavan Djavan na  Pista,  Etc ...  \n",
       "203  Magia Djavan A  Voz e o  Violão Reserve o mito...  \n",
       "204  Ventos do  Norte Djavan A  Voz e o  Violão Bem...  \n",
       "\n",
       "[205 rows x 3 columns]"
      ]
     },
     "execution_count": 4,
     "metadata": {},
     "output_type": "execute_result"
    }
   ],
   "source": [
    "df"
   ]
  },
  {
   "cell_type": "code",
   "execution_count": 7,
   "id": "bda91096",
   "metadata": {},
   "outputs": [
    {
     "data": {
      "text/plain": [
       "'https://www.vagalume.com.br/djavan/primeira-estrada.html'"
      ]
     },
     "execution_count": 7,
     "metadata": {},
     "output_type": "execute_result"
    }
   ],
   "source": [
    "df.LINKS.iloc[0]"
   ]
  },
  {
   "cell_type": "code",
   "execution_count": 8,
   "id": "2dc4e89e",
   "metadata": {},
   "outputs": [
    {
     "data": {
      "text/plain": [
       "'Primeira  Estrada Djavan D Esse seu coração Nunca foi tão frio Da pra ver a ilusão Na beira do rio Rio Imploro pra você ficar Quem disse que fica? Não fica! Com tanto pra lhe dar E você modifica Fica Campos que florirão Num sertão de vinho Você se vai sem razão E leva o caminho De vez Como é que vai ser Pra viver Precisando tanto De você Se alguém sabe de amor Por favor, me fale Se era amor, por que acabou? Quem amou não sabe Não se sabe Só um pouco de atenção Encheria-me de brios No mar do meu coração Trago os meus navios Ávidos Pra resistir e proteger De todo o perigo Digo Ficar sem você, já vou dizer Não consigo! Sigo Sonhei com um grande amor E o que tive foi nada O que era doce acabou Na primeira estrada Nada Como é que vai ser Pra viver Precisando tanto De você? Se alguém sabe de amor Por favor me fale Se era amor por que acabou? Quem amou nunca sabe Não se sabe'"
      ]
     },
     "execution_count": 8,
     "metadata": {},
     "output_type": "execute_result"
    }
   ],
   "source": [
    "df.TEXTO.iloc[0]"
   ]
  },
  {
   "cell_type": "code",
   "execution_count": null,
   "id": "faf562e6",
   "metadata": {},
   "outputs": [],
   "source": []
  }
 ],
 "metadata": {
  "hide_input": false,
  "kernelspec": {
   "display_name": "Python 3",
   "language": "python",
   "name": "python3"
  },
  "language_info": {
   "codemirror_mode": {
    "name": "ipython",
    "version": 3
   },
   "file_extension": ".py",
   "mimetype": "text/x-python",
   "name": "python",
   "nbconvert_exporter": "python",
   "pygments_lexer": "ipython3",
   "version": "3.8.10"
  },
  "toc": {
   "base_numbering": 1,
   "nav_menu": {},
   "number_sections": true,
   "sideBar": true,
   "skip_h1_title": false,
   "title_cell": "Table of Contents",
   "title_sidebar": "Contents",
   "toc_cell": false,
   "toc_position": {},
   "toc_section_display": true,
   "toc_window_display": false
  }
 },
 "nbformat": 4,
 "nbformat_minor": 5
}
