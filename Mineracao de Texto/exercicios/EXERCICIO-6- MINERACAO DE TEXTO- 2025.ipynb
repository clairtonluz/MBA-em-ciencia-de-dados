{
 "cells": [
  {
   "cell_type": "markdown",
   "id": "288ac8f5",
   "metadata": {},
   "source": [
    "# Exercício\n",
    "\n",
    "1. Carregue o arquivo FakeTweetBr.csv em um dataframe df.\n",
    "\n",
    "2. Crie um $corpus$ textual através da coluna $text$ e represente, para cada texto, sua forma vetorial através dos métodos $\\textit{Bag of Words}$, $\\textit{TF-IDF}$ e mais dois outros métodos baseado em Deep Learning (obter no  $hugging face$).\n",
    "\n",
    "3. Para cada método, calcule o f1_score e a acurácia para fazer a predição do texto baseado na coluna CLASSIFICACAO.  \n",
    "\n",
    "4. Tente resolver este problema através de um modelo baseado em prompt. Considere colocar exemplos de classificações dentro do prompt para ajudar ao LLM a fazer boas classificações. Calcule o f1_score e a acurácia para os mesmos dados de validação do item anterior.\n",
    "\n",
    "5. Represente os resultados de f1_score e a acurácia em graficos de barras para todas as estratégias anteriores. \n",
    "\n",
    "6. Qual estratégia é a melhor? Onde os modelos erram mais? Crie as matrizes de confusão para analisar esses modelos. \n",
    "\n",
    "\n",
    "\n",
    "\n"
   ]
  },
  {
   "cell_type": "code",
   "execution_count": null,
   "id": "3f2683f8",
   "metadata": {},
   "outputs": [],
   "source": []
  }
 ],
 "metadata": {
  "hide_input": false,
  "kernelspec": {
   "display_name": "Python 3",
   "language": "python",
   "name": "python3"
  },
  "language_info": {
   "codemirror_mode": {
    "name": "ipython",
    "version": 3
   },
   "file_extension": ".py",
   "mimetype": "text/x-python",
   "name": "python",
   "nbconvert_exporter": "python",
   "pygments_lexer": "ipython3",
   "version": "3.8.10"
  },
  "toc": {
   "base_numbering": 1,
   "nav_menu": {},
   "number_sections": true,
   "sideBar": true,
   "skip_h1_title": false,
   "title_cell": "Table of Contents",
   "title_sidebar": "Contents",
   "toc_cell": false,
   "toc_position": {},
   "toc_section_display": true,
   "toc_window_display": false
  }
 },
 "nbformat": 4,
 "nbformat_minor": 5
}
