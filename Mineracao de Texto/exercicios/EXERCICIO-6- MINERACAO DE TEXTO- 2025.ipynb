{
 "cells": [
  {
   "cell_type": "markdown",
   "id": "288ac8f5",
   "metadata": {},
   "source": [
    "# Exercício\n",
    "\n",
    "1. Carregue o arquivo FakeTweetBr.csv em um dataframe df."
   ]
  },
  {
   "cell_type": "code",
   "execution_count": 1,
   "id": "e5c2a249",
   "metadata": {},
   "outputs": [
    {
     "data": {
      "text/html": [
       "<div>\n",
       "<style scoped>\n",
       "    .dataframe tbody tr th:only-of-type {\n",
       "        vertical-align: middle;\n",
       "    }\n",
       "\n",
       "    .dataframe tbody tr th {\n",
       "        vertical-align: top;\n",
       "    }\n",
       "\n",
       "    .dataframe thead th {\n",
       "        text-align: right;\n",
       "    }\n",
       "</style>\n",
       "<table border=\"1\" class=\"dataframe\">\n",
       "  <thead>\n",
       "    <tr style=\"text-align: right;\">\n",
       "      <th></th>\n",
       "      <th>id</th>\n",
       "      <th>subject</th>\n",
       "      <th>text</th>\n",
       "      <th>classificacao</th>\n",
       "      <th>date</th>\n",
       "      <th>retweets</th>\n",
       "      <th>favorites</th>\n",
       "      <th>permalink</th>\n",
       "    </tr>\n",
       "  </thead>\n",
       "  <tbody>\n",
       "    <tr>\n",
       "      <th>0</th>\n",
       "      <td>1.124513e+18</td>\n",
       "      <td>macaco marielle</td>\n",
       "      <td>Marielle &gt;BANDIDOS Narco-traficantes-Milícias ...</td>\n",
       "      <td>fake</td>\n",
       "      <td>2019-05-04 0:16</td>\n",
       "      <td>0</td>\n",
       "      <td>0</td>\n",
       "      <td>https://twitter.com/MRTT_/status/1124513050218...</td>\n",
       "    </tr>\n",
       "    <tr>\n",
       "      <th>1</th>\n",
       "      <td>1.124049e+18</td>\n",
       "      <td>macaco marielle</td>\n",
       "      <td>Bem, as últimas noticias a respeito disso que ...</td>\n",
       "      <td>fake</td>\n",
       "      <td>2019-05-02 17:33</td>\n",
       "      <td>0</td>\n",
       "      <td>0</td>\n",
       "      <td>https://twitter.com/EvaristoKlebber/status/112...</td>\n",
       "    </tr>\n",
       "    <tr>\n",
       "      <th>2</th>\n",
       "      <td>1.119295e+18</td>\n",
       "      <td>macaco marielle</td>\n",
       "      <td>@jornalnacional convivi com notícias da Mariel...</td>\n",
       "      <td>fake</td>\n",
       "      <td>2019-04-19 14:41</td>\n",
       "      <td>0</td>\n",
       "      <td>0</td>\n",
       "      <td>https://twitter.com/luiztemper/status/11192950...</td>\n",
       "    </tr>\n",
       "    <tr>\n",
       "      <th>3</th>\n",
       "      <td>1.114583e+18</td>\n",
       "      <td>macaco marielle</td>\n",
       "      <td>O Cesari Battisti confessou seus crimes, a esq...</td>\n",
       "      <td>fake</td>\n",
       "      <td>2019-04-06 14:36</td>\n",
       "      <td>0</td>\n",
       "      <td>0</td>\n",
       "      <td>https://twitter.com/GrimoaldoL/status/11145825...</td>\n",
       "    </tr>\n",
       "    <tr>\n",
       "      <th>4</th>\n",
       "      <td>1.113246e+18</td>\n",
       "      <td>macaco marielle</td>\n",
       "      <td>[Agência Lupa] Verificamos: É falso que Thiago...</td>\n",
       "      <td>true</td>\n",
       "      <td>2019-04-02 22:04</td>\n",
       "      <td>1</td>\n",
       "      <td>0</td>\n",
       "      <td>https://twitter.com/antmarobel/status/11132459...</td>\n",
       "    </tr>\n",
       "  </tbody>\n",
       "</table>\n",
       "</div>"
      ],
      "text/plain": [
       "             id          subject  \\\n",
       "0  1.124513e+18  macaco marielle   \n",
       "1  1.124049e+18  macaco marielle   \n",
       "2  1.119295e+18  macaco marielle   \n",
       "3  1.114583e+18  macaco marielle   \n",
       "4  1.113246e+18  macaco marielle   \n",
       "\n",
       "                                                text classificacao  \\\n",
       "0  Marielle >BANDIDOS Narco-traficantes-Milícias ...          fake   \n",
       "1  Bem, as últimas noticias a respeito disso que ...          fake   \n",
       "2  @jornalnacional convivi com notícias da Mariel...          fake   \n",
       "3  O Cesari Battisti confessou seus crimes, a esq...          fake   \n",
       "4  [Agência Lupa] Verificamos: É falso que Thiago...          true   \n",
       "\n",
       "               date  retweets  favorites  \\\n",
       "0   2019-05-04 0:16         0          0   \n",
       "1  2019-05-02 17:33         0          0   \n",
       "2  2019-04-19 14:41         0          0   \n",
       "3  2019-04-06 14:36         0          0   \n",
       "4  2019-04-02 22:04         1          0   \n",
       "\n",
       "                                           permalink  \n",
       "0  https://twitter.com/MRTT_/status/1124513050218...  \n",
       "1  https://twitter.com/EvaristoKlebber/status/112...  \n",
       "2  https://twitter.com/luiztemper/status/11192950...  \n",
       "3  https://twitter.com/GrimoaldoL/status/11145825...  \n",
       "4  https://twitter.com/antmarobel/status/11132459...  "
      ]
     },
     "execution_count": 1,
     "metadata": {},
     "output_type": "execute_result"
    }
   ],
   "source": [
    "import pandas as pd\n",
    "\n",
    "df = pd.read_csv('FakeTweetBr.csv')\n",
    "df = df.drop('Unnamed: 0', axis=1)\n",
    "df.head()"
   ]
  },
  {
   "cell_type": "code",
   "execution_count": 2,
   "id": "ff65dfeb",
   "metadata": {},
   "outputs": [],
   "source": [
    "import pandas as pd \n",
    "import matplotlib.pyplot as plt \n",
    "import seaborn as sns \n",
    "import numpy as np\n",
    "import string \n",
    "from tqdm import tqdm\n",
    "\n",
    "import spacy\n",
    "from spacy.lang.pt.stop_words import STOP_WORDS\n",
    "from tqdm import tqdm"
   ]
  },
  {
   "cell_type": "markdown",
   "id": "3c98ac0b",
   "metadata": {},
   "source": [
    "2. Crie um $corpus$ textual através da coluna $text$ e represente, para cada texto, sua forma vetorial através dos métodos $\\textit{Bag of Words}$, $\\textit{TF-IDF}$ e mais dois outros métodos baseado em Deep Learning (obter no  $hugging face$)."
   ]
  },
  {
   "cell_type": "code",
   "execution_count": 3,
   "id": "8ef7382a",
   "metadata": {},
   "outputs": [
    {
     "name": "stdout",
     "output_type": "stream",
     "text": [
      "Collecting pt-core-news-sm==3.8.0\n",
      "  Downloading https://github.com/explosion/spacy-models/releases/download/pt_core_news_sm-3.8.0/pt_core_news_sm-3.8.0-py3-none-any.whl (13.0 MB)\n",
      "\u001b[2K     \u001b[90m━━━━━━━━━━━━━━━━━━━━━━━━━━━━━━━━━━━━━━━━\u001b[0m \u001b[32m13.0/13.0 MB\u001b[0m \u001b[31m45.2 MB/s\u001b[0m eta \u001b[36m0:00:00\u001b[0m \u001b[36m0:00:01\u001b[0m\n",
      "\u001b[?25h\u001b[38;5;2m✔ Download and installation successful\u001b[0m\n",
      "You can now load the package via spacy.load('pt_core_news_sm')\n"
     ]
    }
   ],
   "source": [
    "!python3.10 -m spacy download pt_core_news_sm"
   ]
  },
  {
   "cell_type": "code",
   "execution_count": 4,
   "id": "0d461a26",
   "metadata": {},
   "outputs": [],
   "source": [
    "pln=spacy.load(\"pt_core_news_sm\")\n",
    "stop_words=STOP_WORDS\n",
    "pontuacoes=string.punctuation\n",
    "pontuacoes=pontuacoes+\"...\"+' '"
   ]
  },
  {
   "cell_type": "code",
   "execution_count": 5,
   "id": "b716eb99",
   "metadata": {},
   "outputs": [],
   "source": [
    "def processamento(texto):\n",
    "    texto=texto.lower()\n",
    "    documento=pln(texto)\n",
    "    lista1=[]\n",
    "    for p in documento :\n",
    "        lista1.append(p.lemma_)#lematização\n",
    "    lista2=[]\n",
    "    for p in lista1:\n",
    "        if (p in stop_words)==False:\n",
    "            lista2.append(p)\n",
    "    lista3=[]\n",
    "    for p in lista2:\n",
    "        if (p in pontuacoes)==False:\n",
    "            lista3.append(p)\n",
    "            \n",
    "        \n",
    "    return lista3"
   ]
  },
  {
   "cell_type": "code",
   "execution_count": 6,
   "id": "345cb0dd",
   "metadata": {},
   "outputs": [
    {
     "data": {
      "text/plain": [
       "0      [marielle, bandido, narco-traficantes-milícia,...\n",
       "1      [noticia, respeito, de isso, verdadeiro, assas...\n",
       "2      [@jornalnacional, convivi, notícia, de o, mari...\n",
       "3      [Cesari, battisti, confessar, crime, esquerda,...\n",
       "4      [agência, lupo, verificar, falso, thiago, maca...\n",
       "                             ...                        \n",
       "274    [“, ruptura, corrupção, ”, brasileiro, aparece...\n",
       "275    [pessoal, revista, americano, time, incluir, j...\n",
       "276    [começar, mimimi, de o, bolsoburro, jair, Bols...\n",
       "277    [circular, em o, rede, social, foto, de o, cap...\n",
       "278    [circular, por o, rede, social, publicação, af...\n",
       "Length: 279, dtype: object"
      ]
     },
     "execution_count": 6,
     "metadata": {},
     "output_type": "execute_result"
    }
   ],
   "source": [
    "textoall=pd.Series(df['text'].dropna().values).apply(processamento)\n",
    "textoall"
   ]
  },
  {
   "cell_type": "code",
   "execution_count": 7,
   "id": "a8b43381",
   "metadata": {},
   "outputs": [
    {
     "data": {
      "text/plain": [
       "0      marielle bandido narco-traficantes-milícia pis...\n",
       "1      noticia respeito de isso verdadeiro assassino ...\n",
       "2      @jornalnacional convivi notícia de o marielle ...\n",
       "3      Cesari battisti confessar crime esquerda calar...\n",
       "4      agência lupo verificar falso thiago macaco ide...\n",
       "                             ...                        \n",
       "274    “ ruptura corrupção ” brasileiro aparecer ‘ 10...\n",
       "275    pessoal revista americano time incluir jair bo...\n",
       "276    começar mimimi de o bolsoburro jair Bolsonaro ...\n",
       "277    circular em o rede social foto de o capa de o ...\n",
       "278    circular por o rede social publicação afirmar ...\n",
       "Length: 279, dtype: object"
      ]
     },
     "execution_count": 7,
     "metadata": {},
     "output_type": "execute_result"
    }
   ],
   "source": [
    "corpus=textoall.apply(lambda x: ' '.join(x))\n",
    "corpus"
   ]
  },
  {
   "cell_type": "code",
   "execution_count": 8,
   "id": "990ed024",
   "metadata": {},
   "outputs": [
    {
     "data": {
      "text/plain": [
       "array(['):', '-30', '-sérgio', ..., '“', '”', '…'], dtype=object)"
      ]
     },
     "execution_count": 8,
     "metadata": {},
     "output_type": "execute_result"
    }
   ],
   "source": [
    "from sklearn.feature_extraction.text import CountVectorizer\n",
    "from sklearn.feature_extraction.text import TfidfVectorizer\n",
    "\n",
    "#Bag of Words\n",
    "cv=CountVectorizer(tokenizer=processamento,stop_words=None,token_pattern=None)\n",
    "X_bow=cv.fit_transform(corpus)\n",
    "X_bow.toarray()\n",
    "\n",
    "vocabularioBow=cv.get_feature_names_out()\n",
    "vocabularioBow"
   ]
  },
  {
   "cell_type": "code",
   "execution_count": 9,
   "id": "091a5f6f",
   "metadata": {},
   "outputs": [
    {
     "data": {
      "text/plain": [
       "array(['):', '-30', '-sérgio', ..., '“', '”', '…'], dtype=object)"
      ]
     },
     "execution_count": 9,
     "metadata": {},
     "output_type": "execute_result"
    }
   ],
   "source": [
    "#TF-IDF\n",
    "tfidf=TfidfVectorizer(tokenizer=processamento,stop_words=None,token_pattern=None)\n",
    "X_tfidf=tfidf.fit_transform(corpus)\n",
    "X_tfidf.toarray()\n",
    "\n",
    "vocabularioTfidf=tfidf.get_feature_names_out()\n",
    "vocabularioTfidf"
   ]
  },
  {
   "cell_type": "code",
   "execution_count": 10,
   "id": "2f4d3195",
   "metadata": {},
   "outputs": [
    {
     "data": {
      "text/plain": [
       "array([[ 0.07740567,  0.5260557 , -0.16092922, ..., -0.29797927,\n",
       "         0.43814307, -0.45120567],\n",
       "       [ 0.07397877, -0.4648875 , -0.08954995, ..., -0.50710046,\n",
       "         0.05123941,  0.03417988],\n",
       "       [ 0.23615049, -0.05102448, -0.33671102, ..., -0.5541216 ,\n",
       "         0.04893181, -0.22962333],\n",
       "       ...,\n",
       "       [-0.33889753, -0.02541978,  0.52454007, ..., -0.20851114,\n",
       "        -0.6009589 , -0.3981548 ],\n",
       "       [-0.29252866,  0.04453065,  0.5344818 , ..., -0.27503487,\n",
       "        -0.3023428 , -0.65057   ],\n",
       "       [-0.14084773, -0.4023391 ,  0.8138346 , ..., -0.6793936 ,\n",
       "         0.05583872, -0.587293  ]], dtype=float32)"
      ]
     },
     "execution_count": 10,
     "metadata": {},
     "output_type": "execute_result"
    }
   ],
   "source": [
    "from sentence_transformers import SentenceTransformer\n",
    "\n",
    "model=SentenceTransformer('alfaneo/bertimbau-base-portuguese-sts')\n",
    "\n",
    "X_bert=model.encode(corpus)\n",
    "X_bert"
   ]
  },
  {
   "cell_type": "code",
   "execution_count": 11,
   "id": "316d6394",
   "metadata": {},
   "outputs": [
    {
     "name": "stderr",
     "output_type": "stream",
     "text": [
      "No sentence-transformers model found with name neuralmind/bert-base-portuguese-cased. Creating a new one with mean pooling.\n"
     ]
    },
    {
     "data": {
      "text/plain": [
       "array([[ 0.02489648, -0.17753732,  0.19350234, ..., -0.0265745 ,\n",
       "        -0.00936026, -0.17722248],\n",
       "       [ 0.10019585, -0.5292255 ,  0.09554109, ..., -0.07396646,\n",
       "         0.10944336, -0.14750572],\n",
       "       [ 0.21582519, -0.44644824,  0.25152323, ..., -0.05429944,\n",
       "         0.09362947, -0.26673877],\n",
       "       ...,\n",
       "       [-0.02874576, -0.38789937,  0.5248066 , ...,  0.23877019,\n",
       "        -0.30743563, -0.076271  ],\n",
       "       [-0.03442947, -0.28343862,  0.5865404 , ..., -0.02493171,\n",
       "        -0.11405404, -0.36404315],\n",
       "       [-0.13803135, -0.19216037,  0.41055983, ..., -0.08074851,\n",
       "         0.00794991, -0.3975423 ]], dtype=float32)"
      ]
     },
     "execution_count": 11,
     "metadata": {},
     "output_type": "execute_result"
    }
   ],
   "source": [
    "from sentence_transformers import SentenceTransformer\n",
    "\n",
    "model=SentenceTransformer('neuralmind/bert-base-portuguese-cased')\n",
    "\n",
    "X_bert_neural=model.encode(corpus)\n",
    "X_bert_neural"
   ]
  },
  {
   "cell_type": "markdown",
   "id": "a9d2cef5",
   "metadata": {},
   "source": [
    "3. Para cada método, calcule o f1_score e a acurácia para fazer a predição do texto baseado na coluna CLASSIFICACAO.  "
   ]
  },
  {
   "cell_type": "code",
   "execution_count": 12,
   "id": "472bf225",
   "metadata": {},
   "outputs": [
    {
     "name": "stdout",
     "output_type": "stream",
     "text": [
      "F1 Score BOW: 0.8411798727588201 - Acurácia BOW: 0.8571428571428571\n"
     ]
    }
   ],
   "source": [
    "from sklearn.model_selection import train_test_split\n",
    "from sklearn.linear_model import LogisticRegression\n",
    "from sklearn.metrics import f1_score\n",
    "from sklearn.metrics import accuracy_score\n",
    "\n",
    "X_train_bow, X_test_bow, y_train_bow, y_test_bow = train_test_split(X_bow, df['classificacao'], test_size=0.3, random_state=42)\n",
    "lr_bow = LogisticRegression(max_iter=1000)\n",
    "lr_bow.fit(X_train_bow, y_train_bow)\n",
    "y_pred_bow = lr_bow.predict(X_test_bow)\n",
    "f1_bow = f1_score(y_test_bow, y_pred_bow, average='weighted')\n",
    "acc_bow = accuracy_score(y_test_bow, y_pred_bow)\n",
    "\n",
    "print(f'F1 Score BOW: {f1_bow} - Acurácia BOW: {acc_bow}')"
   ]
  },
  {
   "cell_type": "code",
   "execution_count": 13,
   "id": "fbb39a07",
   "metadata": {},
   "outputs": [
    {
     "name": "stdout",
     "output_type": "stream",
     "text": [
      "F1 Score TF-IDF: 0.65578231292517 - Acurácia TF-IDF: 0.7380952380952381\n"
     ]
    }
   ],
   "source": [
    "\n",
    "X_train_tfidf, X_test_tfidf, y_train_tfidf, y_test_tfidf = train_test_split(X_tfidf, df['classificacao'], test_size=0.3, random_state=42)\n",
    "lr_tfidf = LogisticRegression(max_iter=1000)\n",
    "lr_tfidf.fit(X_train_tfidf, y_train_tfidf)\n",
    "y_pred_tfidf = lr_tfidf.predict(X_test_tfidf)\n",
    "f1_tfidf = f1_score(y_test_tfidf, y_pred_tfidf, average='weighted')\n",
    "acc_tfidf = accuracy_score(y_test_tfidf, y_pred_tfidf)\n",
    "print(f'F1 Score TF-IDF: {f1_tfidf} - Acurácia TF-IDF: {acc_tfidf}')"
   ]
  },
  {
   "cell_type": "code",
   "execution_count": 14,
   "id": "41d885a5",
   "metadata": {},
   "outputs": [
    {
     "name": "stdout",
     "output_type": "stream",
     "text": [
      "F1 Score BERTimbau: 0.8071428571428572 - Acurácia BERTimbau: 0.8095238095238095\n"
     ]
    }
   ],
   "source": [
    "X_train_bert, X_test_bert, y_train_bert, y_test_bert = train_test_split(X_bert, df['classificacao'], test_size=0.3, random_state=42)\n",
    "lr_bert = LogisticRegression(max_iter=1000)\n",
    "lr_bert.fit(X_train_bert, y_train_bert)\n",
    "y_pred_bert = lr_bert.predict(X_test_bert)\n",
    "f1_bert = f1_score(y_test_bert, y_pred_bert, average='weighted')\n",
    "acc_bert = accuracy_score(y_test_bert, y_pred_bert)\n",
    "print(f'F1 Score BERTimbau: {f1_bert} - Acurácia BERTimbau: {acc_bert}')"
   ]
  },
  {
   "cell_type": "code",
   "execution_count": 15,
   "id": "65d9da31",
   "metadata": {},
   "outputs": [
    {
     "name": "stdout",
     "output_type": "stream",
     "text": [
      "F1 Score BERT Neural: 0.8620553709856035 - Acurácia BERT Neural: 0.8690476190476191\n"
     ]
    }
   ],
   "source": [
    "X_train_bert_neural, X_test_bert_neural, y_train_bert_neural, y_test_bert_neural = train_test_split(X_bert_neural, df['classificacao'], test_size=0.3, random_state=42)\n",
    "lr_bert_neural = LogisticRegression(max_iter=1000)\n",
    "lr_bert_neural.fit(X_train_bert_neural, y_train_bert_neural)\n",
    "y_pred_bert_neural = lr_bert_neural.predict(X_test_bert_neural)\n",
    "f1_bert_neural = f1_score(y_test_bert_neural, y_pred_bert_neural, average='weighted')\n",
    "acc_bert_neural = accuracy_score(y_test_bert_neural, y_pred_bert_neural)\n",
    "print(f'F1 Score BERT Neural: {f1_bert_neural} - Acurácia BERT Neural: {acc_bert_neural}')"
   ]
  },
  {
   "cell_type": "markdown",
   "id": "2b632a43",
   "metadata": {},
   "source": [
    "4. Tente resolver este problema através de um modelo baseado em prompt. Considere colocar exemplos de classificações dentro do prompt para ajudar ao LLM a fazer boas classificações. Calcule o f1_score e a acurácia para os mesmos dados de validação do item anterior."
   ]
  },
  {
   "cell_type": "code",
   "execution_count": 16,
   "id": "0811657b",
   "metadata": {},
   "outputs": [
    {
     "name": "stderr",
     "output_type": "stream",
     "text": [
      "huggingface/tokenizers: The current process just got forked, after parallelism has already been used. Disabling parallelism to avoid deadlocks...\n",
      "To disable this warning, you can either:\n",
      "\t- Avoid using `tokenizers` before the fork if possible\n",
      "\t- Explicitly set the environment variable TOKENIZERS_PARALLELISM=(true | false)\n"
     ]
    },
    {
     "name": "stdout",
     "output_type": "stream",
     "text": [
      "Requirement already satisfied: openai in /opt/homebrew/lib/python3.10/site-packages (1.64.0)\n",
      "Requirement already satisfied: anyio<5,>=3.5.0 in /opt/homebrew/lib/python3.10/site-packages (from openai) (4.8.0)\n",
      "Requirement already satisfied: distro<2,>=1.7.0 in /opt/homebrew/lib/python3.10/site-packages (from openai) (1.9.0)\n",
      "Requirement already satisfied: httpx<1,>=0.23.0 in /opt/homebrew/lib/python3.10/site-packages (from openai) (0.28.1)\n",
      "Requirement already satisfied: jiter<1,>=0.4.0 in /opt/homebrew/lib/python3.10/site-packages (from openai) (0.8.2)\n",
      "Requirement already satisfied: pydantic<3,>=1.9.0 in /opt/homebrew/lib/python3.10/site-packages (from openai) (2.10.6)\n",
      "Requirement already satisfied: sniffio in /opt/homebrew/lib/python3.10/site-packages (from openai) (1.3.1)\n",
      "Requirement already satisfied: tqdm>4 in /opt/homebrew/lib/python3.10/site-packages (from openai) (4.67.1)\n",
      "Requirement already satisfied: typing-extensions<5,>=4.11 in /Users/clairtonluz/Library/Python/3.10/lib/python/site-packages (from openai) (4.12.2)\n",
      "Requirement already satisfied: exceptiongroup>=1.0.2 in /Users/clairtonluz/Library/Python/3.10/lib/python/site-packages (from anyio<5,>=3.5.0->openai) (1.2.2)\n",
      "Requirement already satisfied: idna>=2.8 in /opt/homebrew/lib/python3.10/site-packages (from anyio<5,>=3.5.0->openai) (3.10)\n",
      "Requirement already satisfied: certifi in /opt/homebrew/lib/python3.10/site-packages (from httpx<1,>=0.23.0->openai) (2025.1.31)\n",
      "Requirement already satisfied: httpcore==1.* in /opt/homebrew/lib/python3.10/site-packages (from httpx<1,>=0.23.0->openai) (1.0.7)\n",
      "Requirement already satisfied: h11<0.15,>=0.13 in /opt/homebrew/lib/python3.10/site-packages (from httpcore==1.*->httpx<1,>=0.23.0->openai) (0.14.0)\n",
      "Requirement already satisfied: annotated-types>=0.6.0 in /opt/homebrew/lib/python3.10/site-packages (from pydantic<3,>=1.9.0->openai) (0.7.0)\n",
      "Requirement already satisfied: pydantic-core==2.27.2 in /opt/homebrew/lib/python3.10/site-packages (from pydantic<3,>=1.9.0->openai) (2.27.2)\n",
      "Note: you may need to restart the kernel to use updated packages.\n"
     ]
    }
   ],
   "source": [
    "%pip install openai"
   ]
  },
  {
   "cell_type": "code",
   "execution_count": 31,
   "id": "e954acf8",
   "metadata": {},
   "outputs": [],
   "source": [
    "from openai import OpenAI\n",
    "from sklearn.metrics import f1_score, accuracy_score\n",
    "import os\n",
    "\n",
    "client = OpenAI(\n",
    "  api_key=os.getenv(\"OPENAI_API_KEY\")\n",
    ")\n",
    "\n",
    "true_texts = df[df['classificacao'] == 'true']['text'].sample(\n",
    "    50, random_state=42).tolist()\n",
    "fake_texts = df[df['classificacao'] == 'fake']['text'].sample(\n",
    "    50, random_state=42).tolist()\n",
    "\n",
    "true_texts = '\\n'.join(true_texts)\n",
    "fake_texts = '\\n'.join(fake_texts)\n",
    "\n",
    "exemple_texts = f\"\"\"\n",
    "Exemplos de textos true:\n",
    "{true_texts}\n",
    "\n",
    "Exemplos de textos fake:\n",
    "{fake_texts}\n",
    "\"\"\"\n",
    "\n",
    "def classify_text(texts):\n",
    "    # convert list of texts to string cada texto em uma linha enumerada\n",
    "    text = '\\n'.join([f'{i+1}. \"{text}\"' for i, text in enumerate (texts)])\n",
    "    prompt_input = f\"\"\"\n",
    "Classifique cada texto abaixo como true ou fake:\n",
    "\n",
    "\"{text}\"\n",
    "\n",
    "retorne apenas as classificação 'true' ou 'fake' para cada texto informado acima. um resultado por linha,\n",
    "por exemplo:\n",
    "Input:\n",
    "\"texto 1\"\n",
    "\"texto 2\"\n",
    "\"texto 3\"\n",
    "\"texto 4\"\n",
    "\n",
    "Output:\n",
    "true\n",
    "fake\n",
    "true\n",
    "fake\n",
    "\n",
    "no output não retorne a numeração do texto, apenas a classificação.\n",
    "\n",
    "{exemple_texts}\n",
    "\"\"\" \n",
    "    response = client.chat.completions.create(\n",
    "    model=\"gpt-3.5-turbo\",\n",
    "    max_tokens=len(texts) * 4,\n",
    "    temperature=0,\n",
    "    messages=[\n",
    "        {\"role\": \"user\", \"content\": prompt_input}\n",
    "    ]\n",
    "    )\n",
    "\n",
    "    return response.choices[0].message.content\n",
    "\n",
    "\n",
    "def classify_text_batch(texts, batch_size=10):\n",
    "    # split texts into batches\n",
    "    batches = [texts[i:i + batch_size] for i in range(0, len(texts), batch_size)]\n",
    "    results = []\n",
    "    \n",
    "    for batch in batches:\n",
    "        response = classify_text(batch)\n",
    "        response_items = response.strip().split('\\n')\n",
    "        results.extend(response_items)\n",
    "        \n",
    "    return results"
   ]
  },
  {
   "cell_type": "code",
   "execution_count": 32,
   "id": "cdeece7f",
   "metadata": {},
   "outputs": [
    {
     "name": "stdout",
     "output_type": "stream",
     "text": [
      "['fake' 'fake' 'fake' 'fake' 'fake' 'fake' 'fake' 'fake' 'fake' 'fake'\n",
      " 'true' 'fake' 'fake' 'fake' 'fake' 'fake' 'fake' 'fake' 'fake' 'fake'\n",
      " 'fake' 'fake' 'fake' 'fake' 'fake' 'fake' 'fake' 'fake' 'fake' 'fake'\n",
      " 'true' 'fake' 'fake' 'fake' 'fake' 'true' 'fake' 'fake' 'fake' 'fake'\n",
      " 'true' 'fake' 'true' 'fake' 'true' 'fake' 'true' 'fake' 'true' 'fake'\n",
      " 'true' 'true' 'fake' 'true' 'fake' 'fake' 'fake' 'fake' 'fake' 'fake'\n",
      " 'fake' 'fake' 'fake' 'fake' 'fake' 'fake' 'fake' 'fake' 'fake' 'fake'\n",
      " 'fake' 'fake' 'fake' 'fake' 'fake' 'fake' 'fake' 'fake' 'fake' 'fake'\n",
      " 'fake' 'fake' 'fake' 'fake' 'fake' 'fake' 'fake' 'fake' 'fake' 'fake'\n",
      " 'fake' 'fake' 'fake' 'fake' 'fake' 'fake' 'fake' 'fake' 'fake' 'fake'\n",
      " 'fake' 'fake' 'fake' 'fake' 'fake' 'fake' 'fake' 'fake' 'fake' 'fake'\n",
      " 'fake' 'fake' 'fake' 'fake' 'fake' 'fake' 'fake' 'fake' 'fake' 'fake'\n",
      " 'fake' 'fake' 'fake' 'fake' 'fake' 'fake' 'fake' 'fake' 'fake' 'fake'\n",
      " 'fake' 'fake' 'fake' 'fake' 'fake' 'fake' 'fake' 'fake' 'fake' 'fake'\n",
      " 'true' 'true' 'true' 'fake' 'fake' 'fake' 'fake' 'fake' 'fake' 'fake'\n",
      " 'fake' 'fake' 'fake' 'fake' 'fake' 'fake' 'fake' 'fake' 'fake' 'fake'\n",
      " 'true' 'true' 'true' 'fake' 'fake' 'fake' 'true' 'fake' 'fake' 'fake'\n",
      " 'true' 'fake' 'true' 'fake' 'true' 'fake' 'fake' 'fake' 'fake' 'fake'\n",
      " 'fake' 'fake' 'fake' 'fake' 'fake' 'fake' 'fake' 'fake' 'fake' 'fake'\n",
      " 'fake' 'true' 'fake' 'fake' 'fake' 'fake' 'fake' 'true' 'fake' 'fake'\n",
      " 'true' 'fake' 'fake' 'fake' 'fake' 'fake' 'true' 'fake' 'fake' 'fake'\n",
      " 'true' 'fake' 'true' 'fake' 'fake' 'fake' 'fake' 'fake' 'fake' 'fake'\n",
      " 'fake' 'fake' 'fake' 'fake' 'fake' 'fake' 'fake' 'fake' 'fake' 'fake'\n",
      " 'fake' 'fake' 'fake' 'fake' 'fake' 'fake' 'fake' 'fake' 'fake' 'fake'\n",
      " 'fake' 'fake' 'fake' 'fake' 'fake' 'fake' 'fake' 'fake' 'fake' 'fake'\n",
      " 'fake' 'fake' 'fake' 'fake' 'fake' 'true' 'true' 'fake' 'fake' 'fake'\n",
      " 'fake' 'fake' 'fake' 'fake' 'fake' 'fake' 'fake' 'fake' 'fake' 'fake'\n",
      " 'fake' 'fake' 'true' 'fake' 'fake' 'fake' 'fake' 'fake' 'fake']\n"
     ]
    }
   ],
   "source": [
    "y_pred_gpt = np.array(classify_text_batch(df['text'].tolist()))\n",
    "print(y_pred_gpt)\n"
   ]
  },
  {
   "cell_type": "code",
   "execution_count": 33,
   "id": "b5c675de",
   "metadata": {},
   "outputs": [
    {
     "name": "stdout",
     "output_type": "stream",
     "text": [
      "279\n",
      "279\n"
     ]
    }
   ],
   "source": [
    "print(len(y_pred_gpt))\n",
    "print(len(df['classificacao']))"
   ]
  },
  {
   "cell_type": "code",
   "execution_count": 34,
   "id": "7c0f31bb",
   "metadata": {},
   "outputs": [
    {
     "name": "stdout",
     "output_type": "stream",
     "text": [
      "F1 Score GPT: 0.6652347915291069 - Acurácia GPT: 0.7168458781362007\n"
     ]
    }
   ],
   "source": [
    "f1_gpt = f1_score(df['classificacao'],\n",
    "                  y_pred_gpt, average='weighted')\n",
    "acc_gpt = accuracy_score(df['classificacao'], y_pred_gpt)\n",
    "\n",
    "print(f'F1 Score GPT: {f1_gpt} - Acurácia GPT: {acc_gpt}')"
   ]
  },
  {
   "cell_type": "markdown",
   "id": "cca1ffd4",
   "metadata": {},
   "source": [
    "5. Represente os resultados de f1_score e a acurácia em graficos de barras para todas as estratégias anteriores. "
   ]
  },
  {
   "cell_type": "code",
   "execution_count": 35,
   "id": "bad06075",
   "metadata": {},
   "outputs": [
    {
     "data": {
      "image/png": "[encoded data removed]",
      "text/plain": [
       "<Figure size 640x480 with 1 Axes>"
      ]
     },
     "metadata": {},
     "output_type": "display_data"
    }
   ],
   "source": [
    "import matplotlib.pyplot as plt\n",
    "\n",
    "f1_scores = [f1_bow, f1_tfidf, f1_bert, f1_bert_neural, f1_gpt]\n",
    "acc_scores = [acc_bow, acc_tfidf, acc_bert, acc_bert_neural, acc_gpt]\n",
    "methods = ['BOW', 'TF-IDF', 'BERTimbau', 'BERT Neural', 'GPT']\n",
    "\n",
    "fig, ax = plt.subplots()\n",
    "bar_width = 0.35\n",
    "bar_l = np.arange(len(methods))\n",
    "tick_pos = [i + (bar_width / 2) for i in bar_l]\n",
    "\n",
    "bar1 = ax.bar(bar_l, f1_scores, width=bar_width, label='F1 Score')\n",
    "bar2 = ax.bar(bar_l + bar_width, acc_scores, width=bar_width, label='Acurácia')\n",
    "\n",
    "ax.set_xlabel('Métodos')\n",
    "ax.set_ylabel('Scores')\n",
    "ax.set_title('Scores por método')\n",
    "ax.set_xticks(tick_pos)\n",
    "ax.set_xticklabels(methods)\n",
    "ax.legend()\n",
    "\n",
    "# Adiciona os valores em cima das barras\n",
    "for bar in bar1:\n",
    "    yval = bar.get_height()\n",
    "    ax.text(bar.get_x() + bar.get_width()/2, yval, round(yval, 2), ha='center', va='bottom')\n",
    "\n",
    "for bar in bar2:\n",
    "    yval = bar.get_height()\n",
    "    ax.text(bar.get_x() + bar.get_width()/2, yval, round(yval, 2), ha='center', va='bottom')\n",
    "\n",
    "plt.show()"
   ]
  },
  {
   "cell_type": "markdown",
   "id": "2c962157",
   "metadata": {},
   "source": [
    "6. Qual estratégia é a melhor? Onde os modelos erram mais? Crie as matrizes de confusão para analisar esses modelos. "
   ]
  },
  {
   "cell_type": "code",
   "execution_count": 36,
   "id": "3f1d5872",
   "metadata": {},
   "outputs": [
    {
     "data": {
      "image/png": "[encoded data removed]",
      "text/plain": [
       "<Figure size 1500x1000 with 11 Axes>"
      ]
     },
     "metadata": {},
     "output_type": "display_data"
    }
   ],
   "source": [
    "# 6. Qual estratégia é a melhor? Onde os modelos erram mais? Crie as matrizes de confusão para analisar esses modelos. \n",
    "from sklearn.metrics import confusion_matrix\n",
    "\n",
    "confusion_matrix_bow = confusion_matrix(y_test_bow, y_pred_bow)\n",
    "confusion_matrix_tfidf = confusion_matrix(y_test_tfidf, y_pred_tfidf)\n",
    "confusion_matrix_bert = confusion_matrix(y_test_bert, y_pred_bert)\n",
    "confusion_matrix_bert_neural = confusion_matrix(y_test_bert_neural, y_pred_bert_neural)\n",
    "confusion_matrix_gpt = confusion_matrix(df['classificacao'], y_pred_gpt)\n",
    "\n",
    "# Plot confusion matrix\n",
    "fig, axes = plt.subplots(2, 3, figsize=(15, 10))\n",
    "\n",
    "sns.heatmap(confusion_matrix_bow, annot=True, fmt='d', cmap='Blues', ax=axes[0, 0])\n",
    "axes[0, 0].set_title('BOW')\n",
    "\n",
    "sns.heatmap(confusion_matrix_tfidf, annot=True, fmt='d', cmap='Blues', ax=axes[0, 1])\n",
    "axes[0, 1].set_title('TF-IDF')\n",
    "\n",
    "sns.heatmap(confusion_matrix_bert, annot=True, fmt='d', cmap='Blues', ax=axes[0, 2])\n",
    "axes[0, 2].set_title('BERTimbau')\n",
    "\n",
    "sns.heatmap(confusion_matrix_bert_neural, annot=True, fmt='d', cmap='Blues', ax=axes[1, 0])\n",
    "axes[1, 0].set_title('BERT Neural')\n",
    "\n",
    "sns.heatmap(confusion_matrix_gpt, annot=True, fmt='d', cmap='Blues', ax=axes[1, 1])\n",
    "axes[1, 1].set_title('GPT')\n",
    "\n",
    "axes[1, 2].axis('off')\n",
    "plt.show()"
   ]
  }
 ],
 "metadata": {
  "hide_input": false,
  "kernelspec": {
   "display_name": "Python 3",
   "language": "python",
   "name": "python3"
  },
  "language_info": {
   "codemirror_mode": {
    "name": "ipython",
    "version": 3
   },
   "file_extension": ".py",
   "mimetype": "text/x-python",
   "name": "python",
   "nbconvert_exporter": "python",
   "pygments_lexer": "ipython3",
   "version": "3.10.15"
  },
  "toc": {
   "base_numbering": 1,
   "nav_menu": {},
   "number_sections": true,
   "sideBar": true,
   "skip_h1_title": false,
   "title_cell": "Table of Contents",
   "title_sidebar": "Contents",
   "toc_cell": false,
   "toc_position": {},
   "toc_section_display": true,
   "toc_window_display": false
  }
 },
 "nbformat": 4,
 "nbformat_minor": 5
}
