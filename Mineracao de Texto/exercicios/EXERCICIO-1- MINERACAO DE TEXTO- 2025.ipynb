{
 "cells": [
  {
   "cell_type": "markdown",
   "id": "b4bcad11",
   "metadata": {},
   "source": [
    "# Exercícios \n",
    "\n",
    "Você recebeu o arquivo **Supermercado.csv**. Ele contém informações capturadas do Google-maps para pesquisas voltadas à supermercados em Fortaleza. Note que a maioria dos atributos nesse dado são textuais. \n",
    "\n",
    "\n",
    "1. O atributo TIPO refere-se a classificação original feita pela usuário em cada instância do dado. Faça um gráfico em barras mostrando a frequências dos valores mais frequêntes nesse dado. Quantos valores distintos há nesse atributo? Quem é o mais frequente? \n",
    "\n",
    "2. Considere o elemento mais frequente no atributo TIPO como $TFREQ$ Faça um filtro considerando apenas dados onde a variável TIPO é igual a $TFREQ$ e nomei o dataframe como df_filtrado. \n",
    "\n",
    "3. O atributo COMENTARIO refere-se ao número de comentários destacados ao supermercado. Note que, em cada texto, há um número indicando a quantidade de comentários. Capturei-o e crie uma nova coluna em df_filtrado chamada de N_COMENTARIOS. \n",
    "\n",
    "4. Faça um scatter-plot entre o número de comentários e a pontuação de cada supermercado. Calcule o valor da correlação entre essas variáveis. \n",
    "\n",
    "5. A coluna $LOCAL$ contém o endereço do supermercado. É possível obter em alguns casos o CEP de cada supermercado. Em df_filtrado, calcule quantos CEPS distintos há no conjunto de dados. Faça um gráficos de barras demonstrando a frequência de cada CEP no conjunto de dados. \n",
    "\n",
    "DICA: Use try/except quanto necessário. "
   ]
  },
  {
   "cell_type": "code",
   "execution_count": 2,
   "id": "21c6efd9",
   "metadata": {},
   "outputs": [],
   "source": [
    "import pandas as pd "
   ]
  },
  {
   "cell_type": "code",
   "execution_count": 4,
   "id": "c3da6e00",
   "metadata": {},
   "outputs": [],
   "source": [
    "df=pd.read_csv('Supermercado.csv',sep=';')"
   ]
  },
  {
   "cell_type": "code",
   "execution_count": 5,
   "id": "c3c571c9",
   "metadata": {},
   "outputs": [],
   "source": [
    "# remova as linhas duplicadas\n",
    "df=df.drop_duplicates().reset_index(drop=True)"
   ]
  },
  {
   "cell_type": "code",
   "execution_count": 6,
   "id": "e0754c43",
   "metadata": {
    "scrolled": false
   },
   "outputs": [
    {
     "data": {
      "text/html": [
       "<div>\n",
       "<style scoped>\n",
       "    .dataframe tbody tr th:only-of-type {\n",
       "        vertical-align: middle;\n",
       "    }\n",
       "\n",
       "    .dataframe tbody tr th {\n",
       "        vertical-align: top;\n",
       "    }\n",
       "\n",
       "    .dataframe thead th {\n",
       "        text-align: right;\n",
       "    }\n",
       "</style>\n",
       "<table border=\"1\" class=\"dataframe\">\n",
       "  <thead>\n",
       "    <tr style=\"text-align: right;\">\n",
       "      <th></th>\n",
       "      <th>NOME</th>\n",
       "      <th>PONTUACAO</th>\n",
       "      <th>COMENTARIO</th>\n",
       "      <th>LOCAL</th>\n",
       "      <th>TIPO</th>\n",
       "      <th>TEMPO_ESPERA</th>\n",
       "      <th>BUSCA_ID</th>\n",
       "    </tr>\n",
       "  </thead>\n",
       "  <tbody>\n",
       "    <tr>\n",
       "      <th>0</th>\n",
       "      <td>Supermercado Pinheiro - Mondubim</td>\n",
       "      <td>4.2</td>\n",
       "      <td>1.880 comentários</td>\n",
       "      <td>Av. Godofredo Maciel, 4000 - Mondubim, Fortale...</td>\n",
       "      <td>Supermercado</td>\n",
       "      <td>20 min</td>\n",
       "      <td>Supermercado</td>\n",
       "    </tr>\n",
       "    <tr>\n",
       "      <th>1</th>\n",
       "      <td>Supermercado Rabelo</td>\n",
       "      <td>4.1</td>\n",
       "      <td>267 comentários</td>\n",
       "      <td>Av. Pref. Evandro Ayres de Moura, 250 - Mondub...</td>\n",
       "      <td>Supermercado</td>\n",
       "      <td>15 min</td>\n",
       "      <td>Supermercado</td>\n",
       "    </tr>\n",
       "    <tr>\n",
       "      <th>2</th>\n",
       "      <td>Alfredo Supermercado</td>\n",
       "      <td>4.1</td>\n",
       "      <td>916 comentários</td>\n",
       "      <td>R. Daura, 587 - Barroso, Fortaleza - CE, 60862...</td>\n",
       "      <td>Supermercado</td>\n",
       "      <td>15 min</td>\n",
       "      <td>Supermercado</td>\n",
       "    </tr>\n",
       "    <tr>\n",
       "      <th>3</th>\n",
       "      <td>Supermercado Guará (Jacarecanga)</td>\n",
       "      <td>4.3</td>\n",
       "      <td>1.786 comentários</td>\n",
       "      <td>Rua Monsenhor Dantas, 2203 - Jacarecanga, Fort...</td>\n",
       "      <td>Supermercado</td>\n",
       "      <td>20 min</td>\n",
       "      <td>Supermercado</td>\n",
       "    </tr>\n",
       "    <tr>\n",
       "      <th>4</th>\n",
       "      <td>Varejão Supermercados</td>\n",
       "      <td>4.2</td>\n",
       "      <td>455 comentários</td>\n",
       "      <td>Rua Dr. João Amora, 360 - Manuel Sátiro, Forta...</td>\n",
       "      <td>Supermercado</td>\n",
       "      <td>15 min</td>\n",
       "      <td>Supermercado</td>\n",
       "    </tr>\n",
       "    <tr>\n",
       "      <th>...</th>\n",
       "      <td>...</td>\n",
       "      <td>...</td>\n",
       "      <td>...</td>\n",
       "      <td>...</td>\n",
       "      <td>...</td>\n",
       "      <td>...</td>\n",
       "      <td>...</td>\n",
       "    </tr>\n",
       "    <tr>\n",
       "      <th>254</th>\n",
       "      <td>Supermercado Cotribá - Fortaleza dos Valos</td>\n",
       "      <td>4.3</td>\n",
       "      <td>78 comentários</td>\n",
       "      <td>Av. Gerônimo Stefanello, 243 - Centro, Fortale...</td>\n",
       "      <td>Supermercado</td>\n",
       "      <td>15 min</td>\n",
       "      <td>Supermercado</td>\n",
       "    </tr>\n",
       "    <tr>\n",
       "      <th>255</th>\n",
       "      <td>Mercado Fortaleza</td>\n",
       "      <td>4.3</td>\n",
       "      <td>195 comentários</td>\n",
       "      <td>R. Rondônia, 5449 - Jardim Tropical, Rolim de ...</td>\n",
       "      <td>Supermercado</td>\n",
       "      <td>15 min</td>\n",
       "      <td>Supermercado</td>\n",
       "    </tr>\n",
       "    <tr>\n",
       "      <th>256</th>\n",
       "      <td>Supermercado Fortaleza</td>\n",
       "      <td>4.3</td>\n",
       "      <td>73 comentários</td>\n",
       "      <td>Av. Fortaleza, 477 - Centro, Seberi - RS, 9838...</td>\n",
       "      <td>Supermercado</td>\n",
       "      <td>15 min</td>\n",
       "      <td>Supermercado</td>\n",
       "    </tr>\n",
       "    <tr>\n",
       "      <th>257</th>\n",
       "      <td>Supermercado Fortaleza</td>\n",
       "      <td>NaN</td>\n",
       "      <td>NaN</td>\n",
       "      <td>Avenida Pedro Ludovico - s/n lt 5, Tabocão - T...</td>\n",
       "      <td>NaN</td>\n",
       "      <td>NaN</td>\n",
       "      <td>Supermercado</td>\n",
       "    </tr>\n",
       "    <tr>\n",
       "      <th>258</th>\n",
       "      <td>Supermercado Fortaleza</td>\n",
       "      <td>4.1</td>\n",
       "      <td>12 comentários</td>\n",
       "      <td>Tv. Santo Antônio, 2-74, Oeiras do Pará - PA, ...</td>\n",
       "      <td>Supermercado</td>\n",
       "      <td>NaN</td>\n",
       "      <td>Supermercado</td>\n",
       "    </tr>\n",
       "  </tbody>\n",
       "</table>\n",
       "<p>259 rows × 7 columns</p>\n",
       "</div>"
      ],
      "text/plain": [
       "                                           NOME  PONTUACAO         COMENTARIO  \\\n",
       "0              Supermercado Pinheiro - Mondubim        4.2  1.880 comentários   \n",
       "1                           Supermercado Rabelo        4.1    267 comentários   \n",
       "2                          Alfredo Supermercado        4.1    916 comentários   \n",
       "3              Supermercado Guará (Jacarecanga)        4.3  1.786 comentários   \n",
       "4                         Varejão Supermercados        4.2    455 comentários   \n",
       "..                                          ...        ...                ...   \n",
       "254  Supermercado Cotribá - Fortaleza dos Valos        4.3     78 comentários   \n",
       "255                           Mercado Fortaleza        4.3    195 comentários   \n",
       "256                      Supermercado Fortaleza        4.3     73 comentários   \n",
       "257                      Supermercado Fortaleza        NaN                NaN   \n",
       "258                      Supermercado Fortaleza        4.1     12 comentários   \n",
       "\n",
       "                                                 LOCAL          TIPO  \\\n",
       "0    Av. Godofredo Maciel, 4000 - Mondubim, Fortale...  Supermercado   \n",
       "1    Av. Pref. Evandro Ayres de Moura, 250 - Mondub...  Supermercado   \n",
       "2    R. Daura, 587 - Barroso, Fortaleza - CE, 60862...  Supermercado   \n",
       "3    Rua Monsenhor Dantas, 2203 - Jacarecanga, Fort...  Supermercado   \n",
       "4    Rua Dr. João Amora, 360 - Manuel Sátiro, Forta...  Supermercado   \n",
       "..                                                 ...           ...   \n",
       "254  Av. Gerônimo Stefanello, 243 - Centro, Fortale...  Supermercado   \n",
       "255  R. Rondônia, 5449 - Jardim Tropical, Rolim de ...  Supermercado   \n",
       "256  Av. Fortaleza, 477 - Centro, Seberi - RS, 9838...  Supermercado   \n",
       "257  Avenida Pedro Ludovico - s/n lt 5, Tabocão - T...           NaN   \n",
       "258  Tv. Santo Antônio, 2-74, Oeiras do Pará - PA, ...  Supermercado   \n",
       "\n",
       "    TEMPO_ESPERA      BUSCA_ID  \n",
       "0         20 min  Supermercado  \n",
       "1         15 min  Supermercado  \n",
       "2         15 min  Supermercado  \n",
       "3         20 min  Supermercado  \n",
       "4         15 min  Supermercado  \n",
       "..           ...           ...  \n",
       "254       15 min  Supermercado  \n",
       "255       15 min  Supermercado  \n",
       "256       15 min  Supermercado  \n",
       "257          NaN  Supermercado  \n",
       "258          NaN  Supermercado  \n",
       "\n",
       "[259 rows x 7 columns]"
      ]
     },
     "execution_count": 6,
     "metadata": {},
     "output_type": "execute_result"
    }
   ],
   "source": [
    "df"
   ]
  },
  {
   "cell_type": "code",
   "execution_count": 7,
   "id": "95b52aa6",
   "metadata": {},
   "outputs": [
    {
     "data": {
      "text/plain": [
       "'Av. Godofredo Maciel, 4000 - Mondubim, Fortaleza - CE, 60711-502'"
      ]
     },
     "execution_count": 7,
     "metadata": {},
     "output_type": "execute_result"
    }
   ],
   "source": [
    "df.LOCAL.iloc[0]"
   ]
  },
  {
   "cell_type": "code",
   "execution_count": 8,
   "id": "4007be45",
   "metadata": {},
   "outputs": [
    {
     "data": {
      "text/plain": [
       "'Av. Pref. Evandro Ayres de Moura, 250 - Mondubim, Fortaleza - CE, 60810-670'"
      ]
     },
     "execution_count": 8,
     "metadata": {},
     "output_type": "execute_result"
    }
   ],
   "source": [
    "df.LOCAL.iloc[1]"
   ]
  },
  {
   "cell_type": "code",
   "execution_count": 9,
   "id": "89783900",
   "metadata": {},
   "outputs": [
    {
     "data": {
      "text/plain": [
       "'Rua Coronel Alves Teixeira, 422 - Joaquim Távora (Fortaleza), Fortaleza - CE, 60110-533'"
      ]
     },
     "execution_count": 9,
     "metadata": {},
     "output_type": "execute_result"
    }
   ],
   "source": [
    "df.LOCAL.iloc[20]"
   ]
  },
  {
   "cell_type": "code",
   "execution_count": 10,
   "id": "f5590656",
   "metadata": {},
   "outputs": [
    {
     "data": {
      "text/plain": [
       "TIPO\n",
       "Supermercado                                   196\n",
       "Mercado                                          5\n",
       "Mercado em Fortaleza, Ceará                      3\n",
       "Atacadista                                       3\n",
       "Laboratório médico em Fortaleza, Ceará           2\n",
       "Shopping center em Fortaleza, Ceará              2\n",
       "Serviço de distribuição em Fortaleza, Ceará      2\n",
       "Distribuidora de Bebidas                         1\n",
       "Fábrica de Móveis                                1\n",
       "Loja                                             1\n",
       "Repartição pública em Fortaleza, Ceará           1\n",
       "Restaurante japonês                              1\n",
       "Lavanderia em Fortaleza, Ceará                   1\n",
       "$                                                1\n",
       "Sindicato em Fortaleza, Ceará                    1\n",
       "Loja de bebidas alcoólicas                       1\n",
       "Supermercado asiático                            1\n",
       "Loja de prateleiras                              1\n",
       "Shopping center                                  1\n",
       "Hipermercado                                     1\n",
       "Loja de variedades em Fortaleza, Ceará           1\n",
       "Consultoria empresarial                          1\n",
       "Mercado de produtos agrícolas                    1\n",
       "Depósito                                         1\n",
       "Name: count, dtype: int64"
      ]
     },
     "execution_count": 10,
     "metadata": {},
     "output_type": "execute_result"
    }
   ],
   "source": [
    "df.TIPO.value_counts()"
   ]
  },
  {
   "cell_type": "markdown",
   "id": "d14ae3d0",
   "metadata": {},
   "source": [
    "1. O atributo TIPO refere-se a classificação original feita pela usuário em cada instância do dado. Faça um gráfico em barras mostrando a frequências dos valores mais frequêntes nesse dado. Quantos valores distintos há nesse atributo? Quem é o mais frequente? \n"
   ]
  },
  {
   "cell_type": "code",
   "execution_count": 17,
   "id": "c0d213f5",
   "metadata": {},
   "outputs": [
    {
     "name": "stdout",
     "output_type": "stream",
     "text": [
      "Quantos valores distintos há nesse atributo? 24\n",
      "Quem é o mais frequente? Supermercado\n"
     ]
    },
    {
     "data": {
      "image/png": "[encoded data removed]",
      "text/plain": [
       "<Figure size 640x480 with 1 Axes>"
      ]
     },
     "metadata": {},
     "output_type": "display_data"
    }
   ],
   "source": [
    "df.TIPO.value_counts().head(10).plot(kind='bar')\n",
    "\n",
    "tipo_mais_frequente = df.TIPO.value_counts().idxmax()\n",
    "print('Quantos valores distintos há nesse atributo?', df.TIPO.nunique());\n",
    "print('Quem é o mais frequente?', tipo_mais_frequente);"
   ]
  },
  {
   "cell_type": "markdown",
   "id": "50fdf0a8",
   "metadata": {},
   "source": [
    "2. Considere o elemento mais frequente no atributo TIPO como $TFREQ$ Faça um filtro considerando apenas dados onde a variável TIPO é igual a $TFREQ$ e nomei o dataframe como df_filtrado. "
   ]
  },
  {
   "cell_type": "code",
   "execution_count": 18,
   "id": "6b03e65a",
   "metadata": {},
   "outputs": [
    {
     "data": {
      "text/html": [
       "<div>\n",
       "<style scoped>\n",
       "    .dataframe tbody tr th:only-of-type {\n",
       "        vertical-align: middle;\n",
       "    }\n",
       "\n",
       "    .dataframe tbody tr th {\n",
       "        vertical-align: top;\n",
       "    }\n",
       "\n",
       "    .dataframe thead th {\n",
       "        text-align: right;\n",
       "    }\n",
       "</style>\n",
       "<table border=\"1\" class=\"dataframe\">\n",
       "  <thead>\n",
       "    <tr style=\"text-align: right;\">\n",
       "      <th></th>\n",
       "      <th>NOME</th>\n",
       "      <th>PONTUACAO</th>\n",
       "      <th>COMENTARIO</th>\n",
       "      <th>LOCAL</th>\n",
       "      <th>TIPO</th>\n",
       "      <th>TEMPO_ESPERA</th>\n",
       "      <th>BUSCA_ID</th>\n",
       "    </tr>\n",
       "  </thead>\n",
       "  <tbody>\n",
       "    <tr>\n",
       "      <th>0</th>\n",
       "      <td>Supermercado Pinheiro - Mondubim</td>\n",
       "      <td>4.2</td>\n",
       "      <td>1.880 comentários</td>\n",
       "      <td>Av. Godofredo Maciel, 4000 - Mondubim, Fortale...</td>\n",
       "      <td>Supermercado</td>\n",
       "      <td>20 min</td>\n",
       "      <td>Supermercado</td>\n",
       "    </tr>\n",
       "    <tr>\n",
       "      <th>1</th>\n",
       "      <td>Supermercado Rabelo</td>\n",
       "      <td>4.1</td>\n",
       "      <td>267 comentários</td>\n",
       "      <td>Av. Pref. Evandro Ayres de Moura, 250 - Mondub...</td>\n",
       "      <td>Supermercado</td>\n",
       "      <td>15 min</td>\n",
       "      <td>Supermercado</td>\n",
       "    </tr>\n",
       "    <tr>\n",
       "      <th>2</th>\n",
       "      <td>Alfredo Supermercado</td>\n",
       "      <td>4.1</td>\n",
       "      <td>916 comentários</td>\n",
       "      <td>R. Daura, 587 - Barroso, Fortaleza - CE, 60862...</td>\n",
       "      <td>Supermercado</td>\n",
       "      <td>15 min</td>\n",
       "      <td>Supermercado</td>\n",
       "    </tr>\n",
       "    <tr>\n",
       "      <th>3</th>\n",
       "      <td>Supermercado Guará (Jacarecanga)</td>\n",
       "      <td>4.3</td>\n",
       "      <td>1.786 comentários</td>\n",
       "      <td>Rua Monsenhor Dantas, 2203 - Jacarecanga, Fort...</td>\n",
       "      <td>Supermercado</td>\n",
       "      <td>20 min</td>\n",
       "      <td>Supermercado</td>\n",
       "    </tr>\n",
       "    <tr>\n",
       "      <th>4</th>\n",
       "      <td>Varejão Supermercados</td>\n",
       "      <td>4.2</td>\n",
       "      <td>455 comentários</td>\n",
       "      <td>Rua Dr. João Amora, 360 - Manuel Sátiro, Forta...</td>\n",
       "      <td>Supermercado</td>\n",
       "      <td>15 min</td>\n",
       "      <td>Supermercado</td>\n",
       "    </tr>\n",
       "  </tbody>\n",
       "</table>\n",
       "</div>"
      ],
      "text/plain": [
       "                               NOME  PONTUACAO         COMENTARIO  \\\n",
       "0  Supermercado Pinheiro - Mondubim        4.2  1.880 comentários   \n",
       "1               Supermercado Rabelo        4.1    267 comentários   \n",
       "2              Alfredo Supermercado        4.1    916 comentários   \n",
       "3  Supermercado Guará (Jacarecanga)        4.3  1.786 comentários   \n",
       "4             Varejão Supermercados        4.2    455 comentários   \n",
       "\n",
       "                                               LOCAL          TIPO  \\\n",
       "0  Av. Godofredo Maciel, 4000 - Mondubim, Fortale...  Supermercado   \n",
       "1  Av. Pref. Evandro Ayres de Moura, 250 - Mondub...  Supermercado   \n",
       "2  R. Daura, 587 - Barroso, Fortaleza - CE, 60862...  Supermercado   \n",
       "3  Rua Monsenhor Dantas, 2203 - Jacarecanga, Fort...  Supermercado   \n",
       "4  Rua Dr. João Amora, 360 - Manuel Sátiro, Forta...  Supermercado   \n",
       "\n",
       "  TEMPO_ESPERA      BUSCA_ID  \n",
       "0       20 min  Supermercado  \n",
       "1       15 min  Supermercado  \n",
       "2       15 min  Supermercado  \n",
       "3       20 min  Supermercado  \n",
       "4       15 min  Supermercado  "
      ]
     },
     "execution_count": 18,
     "metadata": {},
     "output_type": "execute_result"
    }
   ],
   "source": [
    "df_filtrado = df[df.TIPO == tipo_mais_frequente]\n",
    "df_filtrado.head()"
   ]
  },
  {
   "cell_type": "markdown",
   "id": "7a82ed89",
   "metadata": {},
   "source": [
    "3. O atributo COMENTARIO refere-se ao número de comentários destacados ao supermercado. Note que, em cada texto, há um número indicando a quantidade de comentários. Capturei-o e crie uma nova coluna em df_filtrado chamada de N_COMENTARIOS. "
   ]
  },
  {
   "cell_type": "code",
   "execution_count": null,
   "id": "36d900d7",
   "metadata": {},
   "outputs": [
    {
     "name": "stderr",
     "output_type": "stream",
     "text": [
      "/var/folders/hh/sy5ws2px2632l4y5ft5fb97r0000gp/T/ipykernel_94894/3726086933.py:6: SettingWithCopyWarning: \n",
      "A value is trying to be set on a copy of a slice from a DataFrame.\n",
      "Try using .loc[row_indexer,col_indexer] = value instead\n",
      "\n",
      "See the caveats in the documentation: https://pandas.pydata.org/pandas-docs/stable/user_guide/indexing.html#returning-a-view-versus-a-copy\n",
      "  df_filtrado['N_COMENTARIOS'] = df_filtrado.COMENTARIO.str.lower().str.replace('comentários','').replace('um comentário','1').str.strip().str.replace('.','').astype(int)\n"
     ]
    },
    {
     "data": {
      "text/html": [
       "<div>\n",
       "<style scoped>\n",
       "    .dataframe tbody tr th:only-of-type {\n",
       "        vertical-align: middle;\n",
       "    }\n",
       "\n",
       "    .dataframe tbody tr th {\n",
       "        vertical-align: top;\n",
       "    }\n",
       "\n",
       "    .dataframe thead th {\n",
       "        text-align: right;\n",
       "    }\n",
       "</style>\n",
       "<table border=\"1\" class=\"dataframe\">\n",
       "  <thead>\n",
       "    <tr style=\"text-align: right;\">\n",
       "      <th></th>\n",
       "      <th>NOME</th>\n",
       "      <th>PONTUACAO</th>\n",
       "      <th>COMENTARIO</th>\n",
       "      <th>LOCAL</th>\n",
       "      <th>TIPO</th>\n",
       "      <th>TEMPO_ESPERA</th>\n",
       "      <th>BUSCA_ID</th>\n",
       "      <th>N_COMENTARIOS</th>\n",
       "    </tr>\n",
       "  </thead>\n",
       "  <tbody>\n",
       "    <tr>\n",
       "      <th>0</th>\n",
       "      <td>Supermercado Pinheiro - Mondubim</td>\n",
       "      <td>4.2</td>\n",
       "      <td>1.880 comentários</td>\n",
       "      <td>Av. Godofredo Maciel, 4000 - Mondubim, Fortale...</td>\n",
       "      <td>Supermercado</td>\n",
       "      <td>20 min</td>\n",
       "      <td>Supermercado</td>\n",
       "      <td>1880</td>\n",
       "    </tr>\n",
       "    <tr>\n",
       "      <th>1</th>\n",
       "      <td>Supermercado Rabelo</td>\n",
       "      <td>4.1</td>\n",
       "      <td>267 comentários</td>\n",
       "      <td>Av. Pref. Evandro Ayres de Moura, 250 - Mondub...</td>\n",
       "      <td>Supermercado</td>\n",
       "      <td>15 min</td>\n",
       "      <td>Supermercado</td>\n",
       "      <td>267</td>\n",
       "    </tr>\n",
       "    <tr>\n",
       "      <th>2</th>\n",
       "      <td>Alfredo Supermercado</td>\n",
       "      <td>4.1</td>\n",
       "      <td>916 comentários</td>\n",
       "      <td>R. Daura, 587 - Barroso, Fortaleza - CE, 60862...</td>\n",
       "      <td>Supermercado</td>\n",
       "      <td>15 min</td>\n",
       "      <td>Supermercado</td>\n",
       "      <td>916</td>\n",
       "    </tr>\n",
       "    <tr>\n",
       "      <th>3</th>\n",
       "      <td>Supermercado Guará (Jacarecanga)</td>\n",
       "      <td>4.3</td>\n",
       "      <td>1.786 comentários</td>\n",
       "      <td>Rua Monsenhor Dantas, 2203 - Jacarecanga, Fort...</td>\n",
       "      <td>Supermercado</td>\n",
       "      <td>20 min</td>\n",
       "      <td>Supermercado</td>\n",
       "      <td>1786</td>\n",
       "    </tr>\n",
       "    <tr>\n",
       "      <th>4</th>\n",
       "      <td>Varejão Supermercados</td>\n",
       "      <td>4.2</td>\n",
       "      <td>455 comentários</td>\n",
       "      <td>Rua Dr. João Amora, 360 - Manuel Sátiro, Forta...</td>\n",
       "      <td>Supermercado</td>\n",
       "      <td>15 min</td>\n",
       "      <td>Supermercado</td>\n",
       "      <td>455</td>\n",
       "    </tr>\n",
       "  </tbody>\n",
       "</table>\n",
       "</div>"
      ],
      "text/plain": [
       "                               NOME  PONTUACAO         COMENTARIO  \\\n",
       "0  Supermercado Pinheiro - Mondubim        4.2  1.880 comentários   \n",
       "1               Supermercado Rabelo        4.1    267 comentários   \n",
       "2              Alfredo Supermercado        4.1    916 comentários   \n",
       "3  Supermercado Guará (Jacarecanga)        4.3  1.786 comentários   \n",
       "4             Varejão Supermercados        4.2    455 comentários   \n",
       "\n",
       "                                               LOCAL          TIPO  \\\n",
       "0  Av. Godofredo Maciel, 4000 - Mondubim, Fortale...  Supermercado   \n",
       "1  Av. Pref. Evandro Ayres de Moura, 250 - Mondub...  Supermercado   \n",
       "2  R. Daura, 587 - Barroso, Fortaleza - CE, 60862...  Supermercado   \n",
       "3  Rua Monsenhor Dantas, 2203 - Jacarecanga, Fort...  Supermercado   \n",
       "4  Rua Dr. João Amora, 360 - Manuel Sátiro, Forta...  Supermercado   \n",
       "\n",
       "  TEMPO_ESPERA      BUSCA_ID  N_COMENTARIOS  \n",
       "0       20 min  Supermercado           1880  \n",
       "1       15 min  Supermercado            267  \n",
       "2       15 min  Supermercado            916  \n",
       "3       20 min  Supermercado           1786  \n",
       "4       15 min  Supermercado            455  "
      ]
     },
     "execution_count": 30,
     "metadata": {},
     "output_type": "execute_result"
    }
   ],
   "source": [
    "df_filtrado['N_COMENTARIOS'] = df_filtrado.COMENTARIO.str.lower().str.replace('comentários','').replace('um comentário','1').str.strip().str.replace('.','').astype(int)\n",
    "\n",
    "df_filtrado.head()"
   ]
  },
  {
   "cell_type": "markdown",
   "id": "ceab91a6",
   "metadata": {},
   "source": [
    "4. Faça um scatter-plot entre o número de comentários e a pontuação de cada supermercado. Calcule o valor da correlação entre essas variáveis. "
   ]
  },
  {
   "cell_type": "code",
   "execution_count": null,
   "id": "2e302758",
   "metadata": {},
   "outputs": [
    {
     "data": {
      "text/plain": [
       "<Axes: xlabel='N_COMENTARIOS', ylabel='PONTUACAO'>"
      ]
     },
     "execution_count": 31,
     "metadata": {},
     "output_type": "execute_result"
    },
    {
     "data": {
      "image/png": "[encoded data removed]",
      "text/plain": [
       "<Figure size 640x480 with 1 Axes>"
      ]
     },
     "metadata": {},
     "output_type": "display_data"
    }
   ],
   "source": [
    "df_filtrado.plot.scatter(x='N_COMENTARIOS',y='PONTUACAO')"
   ]
  },
  {
   "cell_type": "code",
   "execution_count": 32,
   "id": "97684292",
   "metadata": {},
   "outputs": [
    {
     "data": {
      "text/html": [
       "<div>\n",
       "<style scoped>\n",
       "    .dataframe tbody tr th:only-of-type {\n",
       "        vertical-align: middle;\n",
       "    }\n",
       "\n",
       "    .dataframe tbody tr th {\n",
       "        vertical-align: top;\n",
       "    }\n",
       "\n",
       "    .dataframe thead th {\n",
       "        text-align: right;\n",
       "    }\n",
       "</style>\n",
       "<table border=\"1\" class=\"dataframe\">\n",
       "  <thead>\n",
       "    <tr style=\"text-align: right;\">\n",
       "      <th></th>\n",
       "      <th>N_COMENTARIOS</th>\n",
       "      <th>PONTUACAO</th>\n",
       "    </tr>\n",
       "  </thead>\n",
       "  <tbody>\n",
       "    <tr>\n",
       "      <th>N_COMENTARIOS</th>\n",
       "      <td>1.000000</td>\n",
       "      <td>-0.004759</td>\n",
       "    </tr>\n",
       "    <tr>\n",
       "      <th>PONTUACAO</th>\n",
       "      <td>-0.004759</td>\n",
       "      <td>1.000000</td>\n",
       "    </tr>\n",
       "  </tbody>\n",
       "</table>\n",
       "</div>"
      ],
      "text/plain": [
       "               N_COMENTARIOS  PONTUACAO\n",
       "N_COMENTARIOS       1.000000  -0.004759\n",
       "PONTUACAO          -0.004759   1.000000"
      ]
     },
     "execution_count": 32,
     "metadata": {},
     "output_type": "execute_result"
    }
   ],
   "source": [
    "df_filtrado[['N_COMENTARIOS','PONTUACAO']].corr()"
   ]
  },
  {
   "cell_type": "markdown",
   "id": "9d4b0aee",
   "metadata": {},
   "source": [
    "5. A coluna $LOCAL$ contém o endereço do supermercado. É possível obter em alguns casos o CEP de cada supermercado. Em df_filtrado, calcule quantos CEPS distintos há no conjunto de dados. Faça um gráficos de barras demonstrando a frequência de cada CEP no conjunto de dados. "
   ]
  },
  {
   "cell_type": "code",
   "execution_count": null,
   "id": "877faa8f",
   "metadata": {},
   "outputs": [
    {
     "name": "stderr",
     "output_type": "stream",
     "text": [
      "/var/folders/hh/sy5ws2px2632l4y5ft5fb97r0000gp/T/ipykernel_94894/3365860199.py:3: SettingWithCopyWarning: \n",
      "A value is trying to be set on a copy of a slice from a DataFrame.\n",
      "Try using .loc[row_indexer,col_indexer] = value instead\n",
      "\n",
      "See the caveats in the documentation: https://pandas.pydata.org/pandas-docs/stable/user_guide/indexing.html#returning-a-view-versus-a-copy\n",
      "  df_filtrado['CEP'] = df_filtrado.LOCAL.str.extract(r'(\\d{5}-\\d{3})')\n"
     ]
    },
    {
     "data": {
      "text/html": [
       "<div>\n",
       "<style scoped>\n",
       "    .dataframe tbody tr th:only-of-type {\n",
       "        vertical-align: middle;\n",
       "    }\n",
       "\n",
       "    .dataframe tbody tr th {\n",
       "        vertical-align: top;\n",
       "    }\n",
       "\n",
       "    .dataframe thead th {\n",
       "        text-align: right;\n",
       "    }\n",
       "</style>\n",
       "<table border=\"1\" class=\"dataframe\">\n",
       "  <thead>\n",
       "    <tr style=\"text-align: right;\">\n",
       "      <th></th>\n",
       "      <th>NOME</th>\n",
       "      <th>PONTUACAO</th>\n",
       "      <th>COMENTARIO</th>\n",
       "      <th>LOCAL</th>\n",
       "      <th>TIPO</th>\n",
       "      <th>TEMPO_ESPERA</th>\n",
       "      <th>BUSCA_ID</th>\n",
       "      <th>N_COMENTARIOS</th>\n",
       "      <th>CEP</th>\n",
       "    </tr>\n",
       "  </thead>\n",
       "  <tbody>\n",
       "    <tr>\n",
       "      <th>0</th>\n",
       "      <td>Supermercado Pinheiro - Mondubim</td>\n",
       "      <td>4.2</td>\n",
       "      <td>1.880 comentários</td>\n",
       "      <td>Av. Godofredo Maciel, 4000 - Mondubim, Fortale...</td>\n",
       "      <td>Supermercado</td>\n",
       "      <td>20 min</td>\n",
       "      <td>Supermercado</td>\n",
       "      <td>1880</td>\n",
       "      <td>60711-502</td>\n",
       "    </tr>\n",
       "    <tr>\n",
       "      <th>1</th>\n",
       "      <td>Supermercado Rabelo</td>\n",
       "      <td>4.1</td>\n",
       "      <td>267 comentários</td>\n",
       "      <td>Av. Pref. Evandro Ayres de Moura, 250 - Mondub...</td>\n",
       "      <td>Supermercado</td>\n",
       "      <td>15 min</td>\n",
       "      <td>Supermercado</td>\n",
       "      <td>267</td>\n",
       "      <td>60810-670</td>\n",
       "    </tr>\n",
       "    <tr>\n",
       "      <th>2</th>\n",
       "      <td>Alfredo Supermercado</td>\n",
       "      <td>4.1</td>\n",
       "      <td>916 comentários</td>\n",
       "      <td>R. Daura, 587 - Barroso, Fortaleza - CE, 60862...</td>\n",
       "      <td>Supermercado</td>\n",
       "      <td>15 min</td>\n",
       "      <td>Supermercado</td>\n",
       "      <td>916</td>\n",
       "      <td>60862-760</td>\n",
       "    </tr>\n",
       "    <tr>\n",
       "      <th>3</th>\n",
       "      <td>Supermercado Guará (Jacarecanga)</td>\n",
       "      <td>4.3</td>\n",
       "      <td>1.786 comentários</td>\n",
       "      <td>Rua Monsenhor Dantas, 2203 - Jacarecanga, Fort...</td>\n",
       "      <td>Supermercado</td>\n",
       "      <td>20 min</td>\n",
       "      <td>Supermercado</td>\n",
       "      <td>1786</td>\n",
       "      <td>60010-436</td>\n",
       "    </tr>\n",
       "    <tr>\n",
       "      <th>4</th>\n",
       "      <td>Varejão Supermercados</td>\n",
       "      <td>4.2</td>\n",
       "      <td>455 comentários</td>\n",
       "      <td>Rua Dr. João Amora, 360 - Manuel Sátiro, Forta...</td>\n",
       "      <td>Supermercado</td>\n",
       "      <td>15 min</td>\n",
       "      <td>Supermercado</td>\n",
       "      <td>455</td>\n",
       "      <td>60713-300</td>\n",
       "    </tr>\n",
       "  </tbody>\n",
       "</table>\n",
       "</div>"
      ],
      "text/plain": [
       "                               NOME  PONTUACAO         COMENTARIO  \\\n",
       "0  Supermercado Pinheiro - Mondubim        4.2  1.880 comentários   \n",
       "1               Supermercado Rabelo        4.1    267 comentários   \n",
       "2              Alfredo Supermercado        4.1    916 comentários   \n",
       "3  Supermercado Guará (Jacarecanga)        4.3  1.786 comentários   \n",
       "4             Varejão Supermercados        4.2    455 comentários   \n",
       "\n",
       "                                               LOCAL          TIPO  \\\n",
       "0  Av. Godofredo Maciel, 4000 - Mondubim, Fortale...  Supermercado   \n",
       "1  Av. Pref. Evandro Ayres de Moura, 250 - Mondub...  Supermercado   \n",
       "2  R. Daura, 587 - Barroso, Fortaleza - CE, 60862...  Supermercado   \n",
       "3  Rua Monsenhor Dantas, 2203 - Jacarecanga, Fort...  Supermercado   \n",
       "4  Rua Dr. João Amora, 360 - Manuel Sátiro, Forta...  Supermercado   \n",
       "\n",
       "  TEMPO_ESPERA      BUSCA_ID  N_COMENTARIOS        CEP  \n",
       "0       20 min  Supermercado           1880  60711-502  \n",
       "1       15 min  Supermercado            267  60810-670  \n",
       "2       15 min  Supermercado            916  60862-760  \n",
       "3       20 min  Supermercado           1786  60010-436  \n",
       "4       15 min  Supermercado            455  60713-300  "
      ]
     },
     "execution_count": 33,
     "metadata": {},
     "output_type": "execute_result"
    }
   ],
   "source": [
    "df_filtrado['CEP'] = df_filtrado.LOCAL.str.extract(r'(\\d{5}-\\d{3})')\n",
    "df_filtrado.head()"
   ]
  },
  {
   "cell_type": "code",
   "execution_count": 35,
   "id": "9c3e6596",
   "metadata": {},
   "outputs": [
    {
     "name": "stdout",
     "output_type": "stream",
     "text": [
      "CEPs distintos: 175\n"
     ]
    }
   ],
   "source": [
    "# calcule quantos CEPS distintos há no conjunto de dados.\n",
    "print('CEPs distintos:', df_filtrado.CEP.nunique())"
   ]
  },
  {
   "cell_type": "code",
   "execution_count": null,
   "id": "1fd453bd",
   "metadata": {},
   "outputs": [
    {
     "data": {
      "text/plain": [
       "<Axes: title={'center': 'Frequência dos 10 CEPs mais frequentes'}, xlabel='CEP'>"
      ]
     },
     "execution_count": 38,
     "metadata": {},
     "output_type": "execute_result"
    },
    {
     "data": {
      "image/png": "[encoded data removed]",
      "text/plain": [
       "<Figure size 640x480 with 1 Axes>"
      ]
     },
     "metadata": {},
     "output_type": "display_data"
    }
   ],
   "source": [
    "df_filtrado.CEP.value_counts().head(10).plot(kind='bar', title='Frequência dos 10 CEPs mais frequentes')"
   ]
  },
  {
   "cell_type": "code",
   "execution_count": null,
   "id": "f75d9982",
   "metadata": {},
   "outputs": [],
   "source": []
  }
 ],
 "metadata": {
  "hide_input": false,
  "kernelspec": {
   "display_name": ".venv",
   "language": "python",
   "name": "python3"
  },
  "language_info": {
   "codemirror_mode": {
    "name": "ipython",
    "version": 3
   },
   "file_extension": ".py",
   "mimetype": "text/x-python",
   "name": "python",
   "nbconvert_exporter": "python",
   "pygments_lexer": "ipython3",
   "version": "3.13.1"
  },
  "toc": {
   "base_numbering": 1,
   "nav_menu": {},
   "number_sections": true,
   "sideBar": true,
   "skip_h1_title": false,
   "title_cell": "Table of Contents",
   "title_sidebar": "Contents",
   "toc_cell": false,
   "toc_position": {},
   "toc_section_display": true,
   "toc_window_display": false
  }
 },
 "nbformat": 4,
 "nbformat_minor": 5
}
