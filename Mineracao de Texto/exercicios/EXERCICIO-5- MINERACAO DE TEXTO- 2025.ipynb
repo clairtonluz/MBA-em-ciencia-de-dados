{
 "cells": [
  {
   "cell_type": "markdown",
   "id": "288ac8f5",
   "metadata": {},
   "source": [
    "# Exercício\n",
    "\n",
    "1. Você recebeu duas bases de dados: JORGE_PROCESSADO e BRUNO_PROCESSADO. Crie um dataframe chamado \"jorge\" e outro chamado \"bruno\" para cada dataset. \n",
    "\n",
    "2. Para cada dataset, crie um gráfico representando a série temporal de publicações mensais para cada indivíduo. \n",
    "\n",
    "3. Para cada dataset, crie graficos de barras para as seguintes métricas: \n",
    "\n",
    "    a. Número de publicações. \n",
    "    \n",
    "    b. Média de curtidas por publicações. \n",
    "    \n",
    "    c. Média de palavras por publicações. \n",
    "    \n",
    "    d. Média de comentário por publicações. \n",
    "    \n",
    "    e. Word cloud\n",
    "    \n",
    "4. Utilize o tsne para representar os textos do BRUNO e do JORGE em um espaço bidimensional.\n",
    "    \n",
    "5. Utilizando o dado de sentimentos (BASE_PROCESSED.csv), verifique a distribuição de sentimentos para cada dataset. Represente em um gráfico de barras. \n",
    "\n",
    "6. Crie um modelo de IA que, dado um texto de entrada, ele classifica o texto em \"BRUNO\" ou \"JORGE\". Qual é o acurácia do seu modelo? Onde o modelo erra mais? Crie uma matriz de confusão. \n",
    "\n",
    "\n",
    "\n"
   ]
  },
  {
   "cell_type": "code",
   "execution_count": null,
   "id": "3f2683f8",
   "metadata": {},
   "outputs": [],
   "source": []
  }
 ],
 "metadata": {
  "hide_input": false,
  "kernelspec": {
   "display_name": "Python 3",
   "language": "python",
   "name": "python3"
  },
  "language_info": {
   "codemirror_mode": {
    "name": "ipython",
    "version": 3
   },
   "file_extension": ".py",
   "mimetype": "text/x-python",
   "name": "python",
   "nbconvert_exporter": "python",
   "pygments_lexer": "ipython3",
   "version": "3.8.10"
  },
  "toc": {
   "base_numbering": 1,
   "nav_menu": {},
   "number_sections": true,
   "sideBar": true,
   "skip_h1_title": false,
   "title_cell": "Table of Contents",
   "title_sidebar": "Contents",
   "toc_cell": false,
   "toc_position": {},
   "toc_section_display": true,
   "toc_window_display": false
  }
 },
 "nbformat": 4,
 "nbformat_minor": 5
}
