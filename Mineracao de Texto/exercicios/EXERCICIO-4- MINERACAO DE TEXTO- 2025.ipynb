{
 "cells": [
  {
   "cell_type": "markdown",
   "id": "288ac8f5",
   "metadata": {},
   "source": [
    "# Exercício\n",
    "\n",
    "1. Carregue o arquivo FakeTweetBr.csv em um dataframe df. \n",
    "\n",
    "2. Crie uma função que leia um texto, remova stop_words e pontuações, além de colocar todas as letras em caixa baixa. O resultado deve ser uma lista de contendo textos lematizados.\n",
    "\n",
    "3. Processe a função descrita anteriormente na coluna $text$ no dataframe df. E verifique as palavras mais frequentes. Faça um  𝑏𝑎𝑟𝑝𝑙𝑜𝑡 contendo a frequência de cada palavra\n",
    "\n",
    "4. Crie um $corpus$ textual através da coluna $text$ e represente, para cada texto, sua forma vetorial através dos métodos $\\textit{Bag of Words}$, $\\textit{TF-IDF}$ e mais dois outros métodos baseado em Deep Learning (obter no  $hugging face$). \n",
    "\n",
    "5. Para cada método, quais palavras são mais correlacionadas com a palavra $fake$? Faça um  𝑏𝑎𝑟𝑝𝑙𝑜𝑡 contendo a correlação de cada palavra com a palavra $fake$ em ordem descrecente.  \n",
    "\n",
    "6. Crie uma arvore (ou floresta) que represente a similaridades entre os textos. A arvore deve ser oriunda de um grafo onde os textos são conectados pela similaridade do cosseno entre eles. Crie uma arvore para cada método.  \n",
    "\n",
    "7. Baseado na questão anterior, responda: O $\\textit{closeness centrality}$ entre os métodos são proporcionais? Crie um correlograma para evidenciar a correlação de Pearson entre as centralidades dos textos para cada método. \n",
    "\n",
    "\n",
    "\n",
    "\n",
    "\n"
   ]
  },
  {
   "cell_type": "code",
   "execution_count": null,
   "id": "2356455f",
   "metadata": {},
   "outputs": [
    {
     "name": "stdout",
     "output_type": "stream",
     "text": [
      "Requirement already satisfied: pandas in /opt/homebrew/lib/python3.10/site-packages (2.2.3)\n",
      "Requirement already satisfied: matplotlib in /opt/homebrew/lib/python3.10/site-packages (3.10.0)\n",
      "Requirement already satisfied: numpy in /opt/homebrew/lib/python3.10/site-packages (2.1.3)\n",
      "Requirement already satisfied: seaborn in /opt/homebrew/lib/python3.10/site-packages (0.13.2)\n",
      "Requirement already satisfied: scikit-learn in /opt/homebrew/lib/python3.10/site-packages (1.6.1)\n",
      "Requirement already satisfied: tqdm in /opt/homebrew/lib/python3.10/site-packages (4.67.1)\n",
      "Requirement already satisfied: python-dateutil>=2.8.2 in /Users/clairtonluz/Library/Python/3.10/lib/python/site-packages (from pandas) (2.9.0.post0)\n",
      "Requirement already satisfied: pytz>=2020.1 in /opt/homebrew/lib/python3.10/site-packages (from pandas) (2024.2)\n",
      "Requirement already satisfied: tzdata>=2022.7 in /opt/homebrew/lib/python3.10/site-packages (from pandas) (2024.2)\n",
      "Requirement already satisfied: contourpy>=1.0.1 in /opt/homebrew/lib/python3.10/site-packages (from matplotlib) (1.3.1)\n",
      "Requirement already satisfied: cycler>=0.10 in /opt/homebrew/lib/python3.10/site-packages (from matplotlib) (0.12.1)\n",
      "Requirement already satisfied: fonttools>=4.22.0 in /opt/homebrew/lib/python3.10/site-packages (from matplotlib) (4.56.0)\n",
      "Requirement already satisfied: kiwisolver>=1.3.1 in /opt/homebrew/lib/python3.10/site-packages (from matplotlib) (1.4.8)\n",
      "Requirement already satisfied: packaging>=20.0 in /Users/clairtonluz/Library/Python/3.10/lib/python/site-packages (from matplotlib) (24.1)\n",
      "Requirement already satisfied: pillow>=8 in /opt/homebrew/lib/python3.10/site-packages (from matplotlib) (11.1.0)\n",
      "Requirement already satisfied: pyparsing>=2.3.1 in /opt/homebrew/lib/python3.10/site-packages (from matplotlib) (3.2.1)\n",
      "Requirement already satisfied: scipy>=1.6.0 in /opt/homebrew/lib/python3.10/site-packages (from scikit-learn) (1.15.1)\n",
      "Requirement already satisfied: joblib>=1.2.0 in /opt/homebrew/lib/python3.10/site-packages (from scikit-learn) (1.4.2)\n",
      "Requirement already satisfied: threadpoolctl>=3.1.0 in /opt/homebrew/lib/python3.10/site-packages (from scikit-learn) (3.5.0)\n",
      "Requirement already satisfied: six>=1.5 in /Users/clairtonluz/Library/Python/3.10/lib/python/site-packages (from python-dateutil>=2.8.2->pandas) (1.16.0)\n",
      "Note: you may need to restart the kernel to use updated packages.\n"
     ]
    }
   ],
   "source": [
    "%pip install pandas matplotlib numpy seaborn scikit-learn tqdm netwulf spacy torch torchvision transformers ipywidgets"
   ]
  },
  {
   "cell_type": "code",
   "execution_count": null,
   "id": "c2ab2aae",
   "metadata": {},
   "outputs": [
    {
     "name": "stdout",
     "output_type": "stream",
     "text": [
      "Requirement already satisfied: spacy in /opt/homebrew/lib/python3.10/site-packages (3.8.4)\n",
      "Requirement already satisfied: spacy-legacy<3.1.0,>=3.0.11 in /opt/homebrew/lib/python3.10/site-packages (from spacy) (3.0.12)\n",
      "Requirement already satisfied: spacy-loggers<2.0.0,>=1.0.0 in /opt/homebrew/lib/python3.10/site-packages (from spacy) (1.0.5)\n",
      "Requirement already satisfied: murmurhash<1.1.0,>=0.28.0 in /opt/homebrew/lib/python3.10/site-packages (from spacy) (1.0.12)\n",
      "Requirement already satisfied: cymem<2.1.0,>=2.0.2 in /opt/homebrew/lib/python3.10/site-packages (from spacy) (2.0.11)\n",
      "Requirement already satisfied: preshed<3.1.0,>=3.0.2 in /opt/homebrew/lib/python3.10/site-packages (from spacy) (3.0.9)\n",
      "Requirement already satisfied: thinc<8.4.0,>=8.3.4 in /opt/homebrew/lib/python3.10/site-packages (from spacy) (8.3.4)\n",
      "Requirement already satisfied: wasabi<1.2.0,>=0.9.1 in /opt/homebrew/lib/python3.10/site-packages (from spacy) (1.1.3)\n",
      "Requirement already satisfied: srsly<3.0.0,>=2.4.3 in /opt/homebrew/lib/python3.10/site-packages (from spacy) (2.5.1)\n",
      "Requirement already satisfied: catalogue<2.1.0,>=2.0.6 in /opt/homebrew/lib/python3.10/site-packages (from spacy) (2.0.10)\n",
      "Requirement already satisfied: weasel<0.5.0,>=0.1.0 in /opt/homebrew/lib/python3.10/site-packages (from spacy) (0.4.1)\n",
      "Requirement already satisfied: typer<1.0.0,>=0.3.0 in /opt/homebrew/lib/python3.10/site-packages (from spacy) (0.15.1)\n",
      "Requirement already satisfied: tqdm<5.0.0,>=4.38.0 in /opt/homebrew/lib/python3.10/site-packages (from spacy) (4.67.1)\n",
      "Requirement already satisfied: numpy>=1.19.0 in /opt/homebrew/lib/python3.10/site-packages (from spacy) (2.1.3)\n",
      "Requirement already satisfied: requests<3.0.0,>=2.13.0 in /opt/homebrew/lib/python3.10/site-packages (from spacy) (2.32.3)\n",
      "Requirement already satisfied: pydantic!=1.8,!=1.8.1,<3.0.0,>=1.7.4 in /opt/homebrew/lib/python3.10/site-packages (from spacy) (2.10.6)\n",
      "Requirement already satisfied: jinja2 in /opt/homebrew/lib/python3.10/site-packages (from spacy) (3.1.5)\n",
      "Requirement already satisfied: setuptools in /opt/homebrew/lib/python3.10/site-packages (from spacy) (75.8.0)\n",
      "Requirement already satisfied: packaging>=20.0 in /Users/clairtonluz/Library/Python/3.10/lib/python/site-packages (from spacy) (24.1)\n",
      "Requirement already satisfied: langcodes<4.0.0,>=3.2.0 in /opt/homebrew/lib/python3.10/site-packages (from spacy) (3.5.0)\n",
      "Requirement already satisfied: language-data>=1.2 in /opt/homebrew/lib/python3.10/site-packages (from langcodes<4.0.0,>=3.2.0->spacy) (1.3.0)\n",
      "Requirement already satisfied: annotated-types>=0.6.0 in /opt/homebrew/lib/python3.10/site-packages (from pydantic!=1.8,!=1.8.1,<3.0.0,>=1.7.4->spacy) (0.7.0)\n",
      "Requirement already satisfied: pydantic-core==2.27.2 in /opt/homebrew/lib/python3.10/site-packages (from pydantic!=1.8,!=1.8.1,<3.0.0,>=1.7.4->spacy) (2.27.2)\n",
      "Requirement already satisfied: typing-extensions>=4.12.2 in /Users/clairtonluz/Library/Python/3.10/lib/python/site-packages (from pydantic!=1.8,!=1.8.1,<3.0.0,>=1.7.4->spacy) (4.12.2)\n",
      "Requirement already satisfied: charset-normalizer<4,>=2 in /opt/homebrew/lib/python3.10/site-packages (from requests<3.0.0,>=2.13.0->spacy) (3.4.1)\n",
      "Requirement already satisfied: idna<4,>=2.5 in /opt/homebrew/lib/python3.10/site-packages (from requests<3.0.0,>=2.13.0->spacy) (3.10)\n",
      "Requirement already satisfied: urllib3<3,>=1.21.1 in /opt/homebrew/lib/python3.10/site-packages (from requests<3.0.0,>=2.13.0->spacy) (2.3.0)\n",
      "Requirement already satisfied: certifi>=2017.4.17 in /opt/homebrew/lib/python3.10/site-packages (from requests<3.0.0,>=2.13.0->spacy) (2025.1.31)\n",
      "Requirement already satisfied: blis<1.3.0,>=1.2.0 in /opt/homebrew/lib/python3.10/site-packages (from thinc<8.4.0,>=8.3.4->spacy) (1.2.0)\n",
      "Requirement already satisfied: confection<1.0.0,>=0.0.1 in /opt/homebrew/lib/python3.10/site-packages (from thinc<8.4.0,>=8.3.4->spacy) (0.1.5)\n",
      "Requirement already satisfied: click>=8.0.0 in /opt/homebrew/lib/python3.10/site-packages (from typer<1.0.0,>=0.3.0->spacy) (8.1.8)\n",
      "Requirement already satisfied: shellingham>=1.3.0 in /opt/homebrew/lib/python3.10/site-packages (from typer<1.0.0,>=0.3.0->spacy) (1.5.4)\n",
      "Requirement already satisfied: rich>=10.11.0 in /opt/homebrew/lib/python3.10/site-packages (from typer<1.0.0,>=0.3.0->spacy) (13.9.4)\n",
      "Requirement already satisfied: cloudpathlib<1.0.0,>=0.7.0 in /opt/homebrew/lib/python3.10/site-packages (from weasel<0.5.0,>=0.1.0->spacy) (0.20.0)\n",
      "Requirement already satisfied: smart-open<8.0.0,>=5.2.1 in /opt/homebrew/lib/python3.10/site-packages (from weasel<0.5.0,>=0.1.0->spacy) (7.1.0)\n",
      "Requirement already satisfied: MarkupSafe>=2.0 in /opt/homebrew/lib/python3.10/site-packages (from jinja2->spacy) (3.0.2)\n",
      "Requirement already satisfied: marisa-trie>=1.1.0 in /opt/homebrew/lib/python3.10/site-packages (from language-data>=1.2->langcodes<4.0.0,>=3.2.0->spacy) (1.2.1)\n",
      "Requirement already satisfied: markdown-it-py>=2.2.0 in /opt/homebrew/lib/python3.10/site-packages (from rich>=10.11.0->typer<1.0.0,>=0.3.0->spacy) (3.0.0)\n",
      "Requirement already satisfied: pygments<3.0.0,>=2.13.0 in /Users/clairtonluz/Library/Python/3.10/lib/python/site-packages (from rich>=10.11.0->typer<1.0.0,>=0.3.0->spacy) (2.18.0)\n",
      "Requirement already satisfied: wrapt in /opt/homebrew/lib/python3.10/site-packages (from smart-open<8.0.0,>=5.2.1->weasel<0.5.0,>=0.1.0->spacy) (1.17.2)\n",
      "Requirement already satisfied: mdurl~=0.1 in /opt/homebrew/lib/python3.10/site-packages (from markdown-it-py>=2.2.0->rich>=10.11.0->typer<1.0.0,>=0.3.0->spacy) (0.1.2)\n",
      "Note: you may need to restart the kernel to use updated packages.\n",
      "zsh:1: command not found: python\n"
     ]
    }
   ],
   "source": [
    "!python -m spacy download pt_core_news_sm"
   ]
  },
  {
   "cell_type": "code",
   "execution_count": 3,
   "id": "81999cef",
   "metadata": {},
   "outputs": [],
   "source": [
    "import pandas as pd \n",
    "import matplotlib.pyplot as plt \n",
    "import seaborn as sns \n",
    "import numpy as np\n",
    "import string \n",
    "from tqdm import tqdm\n",
    "\n",
    "import spacy\n",
    "from spacy.lang.pt.stop_words import STOP_WORDS\n",
    "from tqdm import tqdm"
   ]
  },
  {
   "cell_type": "code",
   "execution_count": 4,
   "id": "9d6b70a4",
   "metadata": {},
   "outputs": [],
   "source": [
    "pln=spacy.load(\"pt_core_news_sm\")\n",
    "stop_words=STOP_WORDS\n",
    "pontuacoes=string.punctuation\n",
    "pontuacoes=pontuacoes+\"...\"+' '"
   ]
  },
  {
   "cell_type": "code",
   "execution_count": 5,
   "id": "66f251d8",
   "metadata": {},
   "outputs": [],
   "source": [
    "def processamento(texto):\n",
    "    texto=texto.lower()\n",
    "    documento=pln(texto)\n",
    "    lista1=[]\n",
    "    for p in documento :\n",
    "        #lista.append(p)\n",
    "        lista1.append(p.lemma_)#lematização\n",
    "    lista2=[]\n",
    "    for p in lista1:\n",
    "        if (p in stop_words)==False:\n",
    "            lista2.append(p)\n",
    "    lista3=[]\n",
    "    for p in lista2:\n",
    "        if (p in pontuacoes)==False:\n",
    "            lista3.append(p)\n",
    "            \n",
    "        \n",
    "    return lista3"
   ]
  },
  {
   "cell_type": "code",
   "execution_count": 6,
   "id": "5ed2cc4b",
   "metadata": {},
   "outputs": [],
   "source": [
    "df=pd.read_csv('FakeTweetBr.csv')"
   ]
  },
  {
   "cell_type": "code",
   "execution_count": 7,
   "id": "2bbbd2cb",
   "metadata": {},
   "outputs": [
    {
     "data": {
      "text/html": [
       "<div>\n",
       "<style scoped>\n",
       "    .dataframe tbody tr th:only-of-type {\n",
       "        vertical-align: middle;\n",
       "    }\n",
       "\n",
       "    .dataframe tbody tr th {\n",
       "        vertical-align: top;\n",
       "    }\n",
       "\n",
       "    .dataframe thead th {\n",
       "        text-align: right;\n",
       "    }\n",
       "</style>\n",
       "<table border=\"1\" class=\"dataframe\">\n",
       "  <thead>\n",
       "    <tr style=\"text-align: right;\">\n",
       "      <th></th>\n",
       "      <th>Unnamed: 0</th>\n",
       "      <th>id</th>\n",
       "      <th>subject</th>\n",
       "      <th>text</th>\n",
       "      <th>classificacao</th>\n",
       "      <th>date</th>\n",
       "      <th>retweets</th>\n",
       "      <th>favorites</th>\n",
       "      <th>permalink</th>\n",
       "    </tr>\n",
       "  </thead>\n",
       "  <tbody>\n",
       "    <tr>\n",
       "      <th>0</th>\n",
       "      <td>0</td>\n",
       "      <td>1.124513e+18</td>\n",
       "      <td>macaco marielle</td>\n",
       "      <td>Marielle &gt;BANDIDOS Narco-traficantes-Milícias ...</td>\n",
       "      <td>fake</td>\n",
       "      <td>2019-05-04 0:16</td>\n",
       "      <td>0</td>\n",
       "      <td>0</td>\n",
       "      <td>https://twitter.com/MRTT_/status/1124513050218...</td>\n",
       "    </tr>\n",
       "    <tr>\n",
       "      <th>1</th>\n",
       "      <td>1</td>\n",
       "      <td>1.124049e+18</td>\n",
       "      <td>macaco marielle</td>\n",
       "      <td>Bem, as últimas noticias a respeito disso que ...</td>\n",
       "      <td>fake</td>\n",
       "      <td>2019-05-02 17:33</td>\n",
       "      <td>0</td>\n",
       "      <td>0</td>\n",
       "      <td>https://twitter.com/EvaristoKlebber/status/112...</td>\n",
       "    </tr>\n",
       "    <tr>\n",
       "      <th>2</th>\n",
       "      <td>5</td>\n",
       "      <td>1.119295e+18</td>\n",
       "      <td>macaco marielle</td>\n",
       "      <td>@jornalnacional convivi com notícias da Mariel...</td>\n",
       "      <td>fake</td>\n",
       "      <td>2019-04-19 14:41</td>\n",
       "      <td>0</td>\n",
       "      <td>0</td>\n",
       "      <td>https://twitter.com/luiztemper/status/11192950...</td>\n",
       "    </tr>\n",
       "    <tr>\n",
       "      <th>3</th>\n",
       "      <td>10</td>\n",
       "      <td>1.114583e+18</td>\n",
       "      <td>macaco marielle</td>\n",
       "      <td>O Cesari Battisti confessou seus crimes, a esq...</td>\n",
       "      <td>fake</td>\n",
       "      <td>2019-04-06 14:36</td>\n",
       "      <td>0</td>\n",
       "      <td>0</td>\n",
       "      <td>https://twitter.com/GrimoaldoL/status/11145825...</td>\n",
       "    </tr>\n",
       "    <tr>\n",
       "      <th>4</th>\n",
       "      <td>11</td>\n",
       "      <td>1.113246e+18</td>\n",
       "      <td>macaco marielle</td>\n",
       "      <td>[Agência Lupa] Verificamos: É falso que Thiago...</td>\n",
       "      <td>true</td>\n",
       "      <td>2019-04-02 22:04</td>\n",
       "      <td>1</td>\n",
       "      <td>0</td>\n",
       "      <td>https://twitter.com/antmarobel/status/11132459...</td>\n",
       "    </tr>\n",
       "    <tr>\n",
       "      <th>...</th>\n",
       "      <td>...</td>\n",
       "      <td>...</td>\n",
       "      <td>...</td>\n",
       "      <td>...</td>\n",
       "      <td>...</td>\n",
       "      <td>...</td>\n",
       "      <td>...</td>\n",
       "      <td>...</td>\n",
       "      <td>...</td>\n",
       "    </tr>\n",
       "    <tr>\n",
       "      <th>274</th>\n",
       "      <td>1345</td>\n",
       "      <td>1.118650e+18</td>\n",
       "      <td>jair time personalidade</td>\n",
       "      <td>Por “ruptura com a corrupção”, apenas um brasi...</td>\n",
       "      <td>fake</td>\n",
       "      <td>2019-04-17 20:00</td>\n",
       "      <td>0</td>\n",
       "      <td>0</td>\n",
       "      <td>https://twitter.com/kohavitt/status/1118650345...</td>\n",
       "    </tr>\n",
       "    <tr>\n",
       "      <th>275</th>\n",
       "      <td>1405</td>\n",
       "      <td>1.090221e+18</td>\n",
       "      <td>jair time personalidade</td>\n",
       "      <td>Pessoal, a revista americana TIME incluiu Jair...</td>\n",
       "      <td>fake</td>\n",
       "      <td>2019-01-29 9:10</td>\n",
       "      <td>2</td>\n",
       "      <td>1</td>\n",
       "      <td>https://twitter.com/alcamorim/status/109022062...</td>\n",
       "    </tr>\n",
       "    <tr>\n",
       "      <th>276</th>\n",
       "      <td>1480</td>\n",
       "      <td>1.073590e+18</td>\n",
       "      <td>jair time personalidade</td>\n",
       "      <td>QUE COMECE O MIMIMI DOS BOLSOBURROS. Jair Bols...</td>\n",
       "      <td>true</td>\n",
       "      <td>2018-12-14 11:47</td>\n",
       "      <td>0</td>\n",
       "      <td>1</td>\n",
       "      <td>https://twitter.com/jorgetemer/status/10735903...</td>\n",
       "    </tr>\n",
       "    <tr>\n",
       "      <th>277</th>\n",
       "      <td>1499</td>\n",
       "      <td>1.072787e+18</td>\n",
       "      <td>jair time personalidade</td>\n",
       "      <td>Circula nas redes sociais uma foto da capa da ...</td>\n",
       "      <td>true</td>\n",
       "      <td>2018-12-12 6:37</td>\n",
       "      <td>0</td>\n",
       "      <td>1</td>\n",
       "      <td>https://twitter.com/juidsonjoc/status/10727874...</td>\n",
       "    </tr>\n",
       "    <tr>\n",
       "      <th>278</th>\n",
       "      <td>2011</td>\n",
       "      <td>1.125022e+18</td>\n",
       "      <td>bicarbonato cura câncer</td>\n",
       "      <td>Circulam pelas redes sociais publicações que a...</td>\n",
       "      <td>true</td>\n",
       "      <td>2019-05-05 10:00</td>\n",
       "      <td>9</td>\n",
       "      <td>36</td>\n",
       "      <td>https://twitter.com/agencialupa/status/1125022...</td>\n",
       "    </tr>\n",
       "  </tbody>\n",
       "</table>\n",
       "<p>279 rows × 9 columns</p>\n",
       "</div>"
      ],
      "text/plain": [
       "     Unnamed: 0            id                  subject  \\\n",
       "0             0  1.124513e+18          macaco marielle   \n",
       "1             1  1.124049e+18          macaco marielle   \n",
       "2             5  1.119295e+18          macaco marielle   \n",
       "3            10  1.114583e+18          macaco marielle   \n",
       "4            11  1.113246e+18          macaco marielle   \n",
       "..          ...           ...                      ...   \n",
       "274        1345  1.118650e+18  jair time personalidade   \n",
       "275        1405  1.090221e+18  jair time personalidade   \n",
       "276        1480  1.073590e+18  jair time personalidade   \n",
       "277        1499  1.072787e+18  jair time personalidade   \n",
       "278        2011  1.125022e+18  bicarbonato cura câncer   \n",
       "\n",
       "                                                  text classificacao  \\\n",
       "0    Marielle >BANDIDOS Narco-traficantes-Milícias ...          fake   \n",
       "1    Bem, as últimas noticias a respeito disso que ...          fake   \n",
       "2    @jornalnacional convivi com notícias da Mariel...          fake   \n",
       "3    O Cesari Battisti confessou seus crimes, a esq...          fake   \n",
       "4    [Agência Lupa] Verificamos: É falso que Thiago...          true   \n",
       "..                                                 ...           ...   \n",
       "274  Por “ruptura com a corrupção”, apenas um brasi...          fake   \n",
       "275  Pessoal, a revista americana TIME incluiu Jair...          fake   \n",
       "276  QUE COMECE O MIMIMI DOS BOLSOBURROS. Jair Bols...          true   \n",
       "277  Circula nas redes sociais uma foto da capa da ...          true   \n",
       "278  Circulam pelas redes sociais publicações que a...          true   \n",
       "\n",
       "                 date  retweets  favorites  \\\n",
       "0     2019-05-04 0:16         0          0   \n",
       "1    2019-05-02 17:33         0          0   \n",
       "2    2019-04-19 14:41         0          0   \n",
       "3    2019-04-06 14:36         0          0   \n",
       "4    2019-04-02 22:04         1          0   \n",
       "..                ...       ...        ...   \n",
       "274  2019-04-17 20:00         0          0   \n",
       "275   2019-01-29 9:10         2          1   \n",
       "276  2018-12-14 11:47         0          1   \n",
       "277   2018-12-12 6:37         0          1   \n",
       "278  2019-05-05 10:00         9         36   \n",
       "\n",
       "                                             permalink  \n",
       "0    https://twitter.com/MRTT_/status/1124513050218...  \n",
       "1    https://twitter.com/EvaristoKlebber/status/112...  \n",
       "2    https://twitter.com/luiztemper/status/11192950...  \n",
       "3    https://twitter.com/GrimoaldoL/status/11145825...  \n",
       "4    https://twitter.com/antmarobel/status/11132459...  \n",
       "..                                                 ...  \n",
       "274  https://twitter.com/kohavitt/status/1118650345...  \n",
       "275  https://twitter.com/alcamorim/status/109022062...  \n",
       "276  https://twitter.com/jorgetemer/status/10735903...  \n",
       "277  https://twitter.com/juidsonjoc/status/10727874...  \n",
       "278  https://twitter.com/agencialupa/status/1125022...  \n",
       "\n",
       "[279 rows x 9 columns]"
      ]
     },
     "execution_count": 7,
     "metadata": {},
     "output_type": "execute_result"
    }
   ],
   "source": [
    "df"
   ]
  },
  {
   "cell_type": "markdown",
   "id": "65dc74ee",
   "metadata": {},
   "source": [
    "3. Processe a função descrita anteriormente na coluna $text$ no dataframe df. E verifique as palavras mais frequentes. Faça um  𝑏𝑎𝑟𝑝𝑙𝑜𝑡 contendo a frequência de cada palavra"
   ]
  },
  {
   "cell_type": "code",
   "execution_count": 8,
   "id": "15b2d42b",
   "metadata": {},
   "outputs": [
    {
     "data": {
      "text/plain": [
       "0      [marielle, bandido, narco-traficantes-milícia,...\n",
       "1      [noticia, respeito, de isso, verdadeiro, assas...\n",
       "2      [@jornalnacional, convivi, notícia, de o, mari...\n",
       "3      [Cesari, battisti, confessar, crime, esquerda,...\n",
       "4      [agência, lupo, verificar, falso, thiago, maca...\n",
       "                             ...                        \n",
       "274    [“, ruptura, corrupção, ”, brasileiro, aparece...\n",
       "275    [pessoal, revista, americano, time, incluir, j...\n",
       "276    [começar, mimimi, de o, bolsoburro, jair, Bols...\n",
       "277    [circular, em o, rede, social, foto, de o, cap...\n",
       "278    [circular, por o, rede, social, publicação, af...\n",
       "Length: 279, dtype: object"
      ]
     },
     "execution_count": 8,
     "metadata": {},
     "output_type": "execute_result"
    }
   ],
   "source": [
    "textoall=pd.Series(df['text'].dropna().values).apply(processamento)\n",
    "textoall"
   ]
  },
  {
   "cell_type": "code",
   "execution_count": 9,
   "id": "d841cba5",
   "metadata": {},
   "outputs": [
    {
     "data": {
      "image/png": "[encoded data removed]",
      "text/plain": [
       "<Figure size 1500x1000 with 1 Axes>"
      ]
     },
     "metadata": {},
     "output_type": "display_data"
    }
   ],
   "source": [
    "from collections import Counter\n",
    "\n",
    "lista_palavras=[]\n",
    "for i in textoall:\n",
    "    for j in i:\n",
    "        lista_palavras.append(j)\n",
    "        \n",
    "frequencia=Counter(lista_palavras)\n",
    "\n",
    "df_frequencia=pd.DataFrame(frequencia.items(),columns=['Palavra','Frequencia'])\n",
    "\n",
    "df_frequencia=df_frequencia.sort_values(by='Frequencia',ascending=False)\n",
    "\n",
    "plt.figure(figsize=(15,10))\n",
    "sns.barplot(x='Palavra',y='Frequencia',data=df_frequencia.head(10))\n",
    "plt.title('As 10 palavras mais frequentes')\n",
    "plt.show()"
   ]
  },
  {
   "cell_type": "markdown",
   "id": "9e7e4e24",
   "metadata": {},
   "source": [
    "4. Crie um $corpus$ textual através da coluna $text$ e represente, para cada texto, sua forma vetorial através dos métodos $\\textit{Bag of Words}$, $\\textit{TF-IDF}$ e mais dois outros métodos baseado em Deep Learning (obter no  $hugging face$). "
   ]
  },
  {
   "cell_type": "code",
   "execution_count": 10,
   "id": "4b509fd9",
   "metadata": {},
   "outputs": [
    {
     "data": {
      "text/plain": [
       "0      marielle bandido narco-traficantes-milícia pis...\n",
       "1      noticia respeito de isso verdadeiro assassino ...\n",
       "2      @jornalnacional convivi notícia de o marielle ...\n",
       "3      Cesari battisti confessar crime esquerda calar...\n",
       "4      agência lupo verificar falso thiago macaco ide...\n",
       "                             ...                        \n",
       "274    “ ruptura corrupção ” brasileiro aparecer ‘ 10...\n",
       "275    pessoal revista americano time incluir jair bo...\n",
       "276    começar mimimi de o bolsoburro jair Bolsonaro ...\n",
       "277    circular em o rede social foto de o capa de o ...\n",
       "278    circular por o rede social publicação afirmar ...\n",
       "Length: 279, dtype: object"
      ]
     },
     "execution_count": 10,
     "metadata": {},
     "output_type": "execute_result"
    }
   ],
   "source": [
    "corpus=textoall.apply(lambda x: ' '.join(x))\n",
    "corpus"
   ]
  },
  {
   "cell_type": "code",
   "execution_count": 50,
   "id": "4eb0c55b",
   "metadata": {},
   "outputs": [
    {
     "data": {
      "text/plain": [
       "array(['):', '-30', '-sérgio', ..., '“', '”', '…'], dtype=object)"
      ]
     },
     "execution_count": 50,
     "metadata": {},
     "output_type": "execute_result"
    }
   ],
   "source": [
    "from sklearn.feature_extraction.text import CountVectorizer\n",
    "from sklearn.feature_extraction.text import TfidfVectorizer\n",
    "\n",
    "#Bag of Words\n",
    "cv=CountVectorizer(tokenizer=processamento,stop_words=None,token_pattern=None)\n",
    "X_bow=cv.fit_transform(corpus)\n",
    "X_bow.toarray()\n",
    "\n",
    "vocabularioBow=cv.get_feature_names_out()\n",
    "vocabularioBow"
   ]
  },
  {
   "cell_type": "code",
   "execution_count": 52,
   "id": "e49a4893",
   "metadata": {},
   "outputs": [
    {
     "data": {
      "text/plain": [
       "array(['):', '-30', '-sérgio', ..., '“', '”', '…'], dtype=object)"
      ]
     },
     "execution_count": 52,
     "metadata": {},
     "output_type": "execute_result"
    }
   ],
   "source": [
    "\n",
    "#TF-IDF\n",
    "tfidf=TfidfVectorizer(tokenizer=processamento,stop_words=None,token_pattern=None)\n",
    "X_tfidf=tfidf.fit_transform(corpus)\n",
    "X_tfidf.toarray()\n",
    "\n",
    "vocabularioTfidf=tfidf.get_feature_names_out()\n",
    "vocabularioTfidf"
   ]
  },
  {
   "cell_type": "code",
   "execution_count": 53,
   "id": "375547e7",
   "metadata": {},
   "outputs": [
    {
     "data": {
      "text/plain": [
       "0      1\n",
       "1      1\n",
       "2      1\n",
       "3      1\n",
       "4      0\n",
       "      ..\n",
       "274    1\n",
       "275    1\n",
       "276    0\n",
       "277    0\n",
       "278    0\n",
       "Name: classificacao, Length: 279, dtype: int64"
      ]
     },
     "execution_count": 53,
     "metadata": {},
     "output_type": "execute_result"
    }
   ],
   "source": [
    "Y=df['classificacao'].apply(lambda x: 1 if x=='fake' else 0)\n",
    "Y"
   ]
  },
  {
   "cell_type": "code",
   "execution_count": 15,
   "id": "5fcd8ddc",
   "metadata": {},
   "outputs": [],
   "source": [
    "# from transformers import BertTokenizer, BertModel\n",
    "\n",
    "# tokenizerBert=BertTokenizer.from_pretrained('neuralmind/bert-base-portuguese-cased')\n",
    "# modelBert=BertModel.from_pretrained('neuralmind/bert-base-portuguese-cased')\n",
    "\n",
    "# tokensBert=tokenizerBert(corpus,return_tensors='pt',padding=True,truncation=True)\n",
    "# outputBert=modelBert(**tokensBert)\n",
    "# outputBert.last_hidden_state"
   ]
  },
  {
   "cell_type": "code",
   "execution_count": 16,
   "id": "12a15029",
   "metadata": {},
   "outputs": [],
   "source": [
    "# from transformers import AutoTokenizer, AutoModel\n",
    "\n",
    "# model_name = \"tubyneto/bertimbau\"\n",
    "\n",
    "# tokenizerBertimbau = AutoTokenizer.from_pretrained(model_name)\n",
    "# modelBertimbau = AutoModel.from_pretrained(model_name)\n",
    "\n",
    "# tokensBertimbau = tokenizerBertimbau(corpus, return_tensors='pt', padding=True, truncation=True)\n",
    "# outputBertimbau = modelBertimbau(**tokensBertimbau)\n",
    "# outputBertimbau.last_hidden_state\n",
    "\n"
   ]
  },
  {
   "cell_type": "markdown",
   "id": "1200d320",
   "metadata": {},
   "source": [
    "5. Para cada método, quais palavras são mais correlacionadas com a palavra $fake$? Faça um  𝑏𝑎𝑟𝑝𝑙𝑜𝑡 contendo a correlação de cada palavra com a palavra $fake$ em ordem descrecente.  "
   ]
  },
  {
   "cell_type": "code",
   "execution_count": 54,
   "id": "559332a7",
   "metadata": {},
   "outputs": [
    {
     "data": {
      "image/png": "[encoded data removed]",
      "text/plain": [
       "<Figure size 640x480 with 1 Axes>"
      ]
     },
     "metadata": {},
     "output_type": "display_data"
    }
   ],
   "source": [
    "# 5. Para cada método, quais palavras são mais correlacionadas com a palavra $fake$? Faça um  𝑏𝑎𝑟𝑝𝑙𝑜𝑡 contendo a correlação de cada palavra com a palavra $fake$ em ordem descrecente.  \n",
    "from sklearn.feature_selection import chi2\n",
    "\n",
    "chi2score=chi2(X_bow,Y)[0]\n",
    "\n",
    "df_chi2=pd.DataFrame(chi2score,columns=['chi2'])\n",
    "df_chi2['palavra']=cv.get_feature_names_out()\n",
    "df_chi2=df_chi2.sort_values(by='chi2',ascending=False)\n",
    "\n",
    "sns.barplot(x='chi2',y='palavra',data=df_chi2.head(10))\n",
    "plt.title('BOW - Top 10 mais correlacionadas com a palavra fake')\n",
    "plt.show()\n"
   ]
  },
  {
   "cell_type": "code",
   "execution_count": 55,
   "id": "058dd05b",
   "metadata": {},
   "outputs": [
    {
     "data": {
      "image/png": "[encoded data removed]",
      "text/plain": [
       "<Figure size 640x480 with 1 Axes>"
      ]
     },
     "metadata": {},
     "output_type": "display_data"
    }
   ],
   "source": [
    "chi2score = chi2(X_tfidf, Y)[0]\n",
    "\n",
    "df_chi2 = pd.DataFrame(chi2score, columns=['chi2'])\n",
    "df_chi2['palavra'] = tfidf.get_feature_names_out()\n",
    "df_chi2 = df_chi2.sort_values(by='chi2', ascending=False)\n",
    "\n",
    "# plt.figure(figsize=(15,10))\n",
    "sns.barplot(x='chi2', y='palavra', data=df_chi2.head(10))\n",
    "plt.title('TF-IDF - Top 10 mais correlacionadas com a palavra fake')\n",
    "plt.show()"
   ]
  },
  {
   "cell_type": "markdown",
   "id": "d2fe6ba9",
   "metadata": {},
   "source": [
    "6. Crie uma arvore (ou floresta) que represente a similaridades entre os textos. A arvore deve ser oriunda de um grafo onde os textos são conectados pela similaridade do cosseno entre eles. Crie uma arvore para cada método.  "
   ]
  },
  {
   "cell_type": "code",
   "execution_count": null,
   "id": "8d315ec3",
   "metadata": {},
   "outputs": [],
   "source": [
    "import networkx as nx\n",
    "from sklearn.metrics.pairwise import cosine_similarity\n",
    "\n",
    "def create_source_target_weight(corpus, vectors):\n",
    "    source = []\n",
    "    target = []\n",
    "    weight = []\n",
    "    nn = len(corpus)\n",
    "    for i in tqdm(range(nn-1)):\n",
    "        for j in range(i+1, nn):\n",
    "            text1 = corpus[i]\n",
    "            text2 = corpus[j]\n",
    "            vector1 = vectors[i]\n",
    "            vector2 = vectors[j]\n",
    "            cosine = cosine_similarity(vector1.reshape(\n",
    "                1, -1), vector2.reshape(1, -1))[0][0]\n",
    "            source.append(text1)\n",
    "            target.append(text2)\n",
    "            weight.append(cosine)\n",
    "    return source, target, weight\n",
    "\n",
    "\n",
    "def create_edges(source, target, weight):\n",
    "    dd = pd.DataFrame({'ORIGEM': source, 'DESTINO': target, 'W': weight})\n",
    "    return nx.from_pandas_edgelist(dd, 'ORIGEM', 'DESTINO', 'W')\n",
    "\n",
    "\n",
    "def create_tree(sourceIn, targetIn, weightIn):\n",
    "    G = create_edges(sourceIn, targetIn, weightIn)\n",
    "    dtree=pd.DataFrame({'ORIGEM':sourceIn,'DESTINO':targetIn,'W':weightIn})\n",
    "    source = []\n",
    "    target = []\n",
    "    weight = []\n",
    "\n",
    "    for a, b in tqdm(nx.maximum_spanning_tree(G, weight='W', algorithm='kruskal').edges):\n",
    "        weight.append(dtree[(dtree['ORIGEM'] == a) & (\n",
    "            dtree['DESTINO'] == b)].W.values[0])\n",
    "        source.append(a)\n",
    "        target.append(b)\n",
    "\n",
    "    dtAux = pd.DataFrame({'ORIGEM': source, 'DESTINO': target, 'W': weight})\n",
    "    return nx.from_pandas_edgelist(dtAux, 'ORIGEM', 'DESTINO', 'W')"
   ]
  },
  {
   "cell_type": "code",
   "execution_count": null,
   "id": "8005231c",
   "metadata": {},
   "outputs": [],
   "source": [
    "corpus_unique=list(pd.Series(corpus).unique())"
   ]
  },
  {
   "cell_type": "code",
   "execution_count": 120,
   "id": "7aa01285",
   "metadata": {},
   "outputs": [
    {
     "name": "stderr",
     "output_type": "stream",
     "text": [
      "100%|██████████| 277/277 [00:05<00:00, 50.44it/s] \n"
     ]
    }
   ],
   "source": [
    "import netwulf as nw\n",
    "\n",
    "vetores_bow=cv.fit_transform(corpus_unique).toarray()\n",
    "source, target, weight = create_source_target_weight(corpus_unique, vetores_bow)"
   ]
  },
  {
   "cell_type": "code",
   "execution_count": 121,
   "id": "fe197088",
   "metadata": {},
   "outputs": [
    {
     "name": "stderr",
     "output_type": "stream",
     "text": [
      "100%|██████████| 277/277 [00:00<00:00, 352.43it/s]\n",
      "/opt/homebrew/lib/python3.10/site-packages/networkx/readwrite/json_graph/node_link.py:142: FutureWarning: \n",
      "The default value will be `edges=\"edges\" in NetworkX 3.6.\n",
      "\n",
      "To make this warning go away, explicitly set the edges kwarg, e.g.:\n",
      "\n",
      "  nx.node_link_data(G, edges=\"links\") to preserve current behavior, or\n",
      "  nx.node_link_data(G, edges=\"edges\") for forward compatibility.\n",
      "  warnings.warn(\n"
     ]
    },
    {
     "data": {
      "text/plain": [
       "(None, None)"
      ]
     },
     "execution_count": 121,
     "metadata": {},
     "output_type": "execute_result"
    }
   ],
   "source": [
    "Gtree = create_tree(source, target, weight)\n",
    "nw.visualize(Gtree)"
   ]
  },
  {
   "cell_type": "code",
   "execution_count": 122,
   "id": "45f7d1f9",
   "metadata": {},
   "outputs": [
    {
     "name": "stderr",
     "output_type": "stream",
     "text": [
      "100%|██████████| 277/277 [00:05<00:00, 50.87it/s] \n",
      "100%|██████████| 277/277 [00:00<00:00, 351.63it/s]\n",
      "/opt/homebrew/lib/python3.10/site-packages/networkx/readwrite/json_graph/node_link.py:142: FutureWarning: \n",
      "The default value will be `edges=\"edges\" in NetworkX 3.6.\n",
      "\n",
      "To make this warning go away, explicitly set the edges kwarg, e.g.:\n",
      "\n",
      "  nx.node_link_data(G, edges=\"links\") to preserve current behavior, or\n",
      "  nx.node_link_data(G, edges=\"edges\") for forward compatibility.\n",
      "  warnings.warn(\n"
     ]
    },
    {
     "data": {
      "text/plain": [
       "(None, None)"
      ]
     },
     "execution_count": 122,
     "metadata": {},
     "output_type": "execute_result"
    }
   ],
   "source": [
    "vetores_tfidf=tfidf.fit_transform(corpus_unique).toarray()\n",
    "source, target, weight = create_source_target_weight(corpus_unique, vetores_tfidf)\n",
    "\n",
    "Gtree = create_tree(source, target, weight)\n",
    "nw.visualize(Gtree)"
   ]
  },
  {
   "cell_type": "markdown",
   "id": "49fc406d",
   "metadata": {},
   "source": [
    "7. Baseado na questão anterior, responda: O $\\textit{closeness centrality}$ entre os métodos são proporcionais? Crie um correlograma para evidenciar a correlação de Pearson entre as centralidades dos textos para cada método. "
   ]
  },
  {
   "cell_type": "code",
   "execution_count": 127,
   "id": "839c398b",
   "metadata": {},
   "outputs": [
    {
     "data": {
      "image/png": "[encoded data removed]",
      "text/plain": [
       "<Figure size 640x480 with 2 Axes>"
      ]
     },
     "metadata": {},
     "output_type": "display_data"
    }
   ],
   "source": [
    "# 7. Baseado na questão anterior, responda: O $\\textit{closeness centrality}$ entre os métodos são proporcionais? Crie um correlograma para evidenciar a correlação de Pearson entre as centralidades dos textos para cada método. \n",
    "\n",
    "def closeness_centrality(G):\n",
    "    return nx.closeness_centrality(G)\n",
    "\n",
    "def create_centrality_df(G):\n",
    "    cc = closeness_centrality(G)\n",
    "    return pd.DataFrame(cc.items(), columns=['Texto', 'Closeness'])\n",
    "\n",
    "df_centrality_bow = create_centrality_df(Gtree)\n",
    "df_centrality_bow['Método'] = 'BOW'\n",
    "\n",
    "df_centrality_tfidf = create_centrality_df(Gtree)\n",
    "df_centrality_tfidf['Método'] = 'TF-IDF'\n",
    "\n",
    "df_centrality = pd.concat([df_centrality_bow, df_centrality_tfidf])\n",
    "\n",
    "sns.heatmap(df_centrality.pivot(index='Texto', columns='Método', values='Closeness').corr(), annot=True)\n",
    "plt.title('Correlação de Pearson entre as centralidades dos textos para cada método')\n",
    "plt.show()"
   ]
  }
 ],
 "metadata": {
  "hide_input": false,
  "kernelspec": {
   "display_name": "Python 3",
   "language": "python",
   "name": "python3"
  },
  "language_info": {
   "codemirror_mode": {
    "name": "ipython",
    "version": 3
   },
   "file_extension": ".py",
   "mimetype": "text/x-python",
   "name": "python",
   "nbconvert_exporter": "python",
   "pygments_lexer": "ipython3",
   "version": "3.10.15"
  },
  "toc": {
   "base_numbering": 1,
   "nav_menu": {},
   "number_sections": true,
   "sideBar": true,
   "skip_h1_title": false,
   "title_cell": "Table of Contents",
   "title_sidebar": "Contents",
   "toc_cell": false,
   "toc_position": {},
   "toc_section_display": true,
   "toc_window_display": false
  }
 },
 "nbformat": 4,
 "nbformat_minor": 5
}
